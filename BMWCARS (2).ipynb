{
  "nbformat": 4,
  "nbformat_minor": 0,
  "metadata": {
    "colab": {
      "provenance": []
    },
    "kernelspec": {
      "name": "python3",
      "display_name": "Python 3"
    },
    "language_info": {
      "name": "python"
    }
  },
  "cells": [
    {
      "cell_type": "code",
      "execution_count": null,
      "metadata": {
        "id": "LowSSlvzsE3o"
      },
      "outputs": [],
      "source": []
    },
    {
      "cell_type": "markdown",
      "source": [
        "#👓 Project on the BMW cars 🚘🚘🚐🚗 sales\n"
      ],
      "metadata": {
        "id": "hIERBp8JsNo_"
      }
    },
    {
      "cell_type": "markdown",
      "source": [
        "\n",
        "What is the business/domain?  sales automobile\n",
        "\n",
        "Who will use these insights? (Business management)\n",
        "\n",
        "What are they trying to improve? Sale volume"
      ],
      "metadata": {
        "id": "gg_Rki46s09U"
      }
    },
    {
      "cell_type": "markdown",
      "source": [],
      "metadata": {
        "id": "NMAzdirxs70b"
      }
    },
    {
      "cell_type": "markdown",
      "source": [
        "# ✅Step 1\n",
        "\n",
        "\n",
        "Load the dataset using pandas and store it in a variable df.\n",
        "(Hint: pd.read_csv())\n",
        "\n",
        "View the first 5 rows of the dataset to get an idea of the data.\n",
        "(Hint: head())\n",
        "\n",
        "Check the number of rows and columns (shape) in the dataset.\n",
        "\n",
        "Get the list of all column names.\n",
        "\n",
        "Find the data type of each column.\n",
        "(Hint: dtypes or info())"
      ],
      "metadata": {
        "id": "4ZRZbLqtwDQ0"
      }
    },
    {
      "cell_type": "markdown",
      "source": [
        "Imported the imp libraries"
      ],
      "metadata": {
        "id": "erRcUIC40YFV"
      }
    },
    {
      "cell_type": "code",
      "source": [
        "import pandas as pd\n",
        "import numpy as np"
      ],
      "metadata": {
        "id": "4zMcO49hszPt"
      },
      "execution_count": 1,
      "outputs": []
    },
    {
      "cell_type": "markdown",
      "source": [
        "## 1️⃣Importing the file"
      ],
      "metadata": {
        "id": "oot2aAcJ0XVW"
      }
    },
    {
      "cell_type": "code",
      "source": [
        "from google.colab import files\n",
        "uploaded = files.upload()"
      ],
      "metadata": {
        "colab": {
          "base_uri": "https://localhost:8080/",
          "height": 73
        },
        "id": "2FWzLIcs3sj6",
        "outputId": "bcc2dda9-aee3-4076-8b1b-7d19ec0d5f9e"
      },
      "execution_count": 2,
      "outputs": [
        {
          "output_type": "display_data",
          "data": {
            "text/plain": [
              "<IPython.core.display.HTML object>"
            ],
            "text/html": [
              "\n",
              "     <input type=\"file\" id=\"files-7e925450-34b9-4ea0-aec7-13f5d9b83109\" name=\"files[]\" multiple disabled\n",
              "        style=\"border:none\" />\n",
              "     <output id=\"result-7e925450-34b9-4ea0-aec7-13f5d9b83109\">\n",
              "      Upload widget is only available when the cell has been executed in the\n",
              "      current browser session. Please rerun this cell to enable.\n",
              "      </output>\n",
              "      <script>// Copyright 2017 Google LLC\n",
              "//\n",
              "// Licensed under the Apache License, Version 2.0 (the \"License\");\n",
              "// you may not use this file except in compliance with the License.\n",
              "// You may obtain a copy of the License at\n",
              "//\n",
              "//      http://www.apache.org/licenses/LICENSE-2.0\n",
              "//\n",
              "// Unless required by applicable law or agreed to in writing, software\n",
              "// distributed under the License is distributed on an \"AS IS\" BASIS,\n",
              "// WITHOUT WARRANTIES OR CONDITIONS OF ANY KIND, either express or implied.\n",
              "// See the License for the specific language governing permissions and\n",
              "// limitations under the License.\n",
              "\n",
              "/**\n",
              " * @fileoverview Helpers for google.colab Python module.\n",
              " */\n",
              "(function(scope) {\n",
              "function span(text, styleAttributes = {}) {\n",
              "  const element = document.createElement('span');\n",
              "  element.textContent = text;\n",
              "  for (const key of Object.keys(styleAttributes)) {\n",
              "    element.style[key] = styleAttributes[key];\n",
              "  }\n",
              "  return element;\n",
              "}\n",
              "\n",
              "// Max number of bytes which will be uploaded at a time.\n",
              "const MAX_PAYLOAD_SIZE = 100 * 1024;\n",
              "\n",
              "function _uploadFiles(inputId, outputId) {\n",
              "  const steps = uploadFilesStep(inputId, outputId);\n",
              "  const outputElement = document.getElementById(outputId);\n",
              "  // Cache steps on the outputElement to make it available for the next call\n",
              "  // to uploadFilesContinue from Python.\n",
              "  outputElement.steps = steps;\n",
              "\n",
              "  return _uploadFilesContinue(outputId);\n",
              "}\n",
              "\n",
              "// This is roughly an async generator (not supported in the browser yet),\n",
              "// where there are multiple asynchronous steps and the Python side is going\n",
              "// to poll for completion of each step.\n",
              "// This uses a Promise to block the python side on completion of each step,\n",
              "// then passes the result of the previous step as the input to the next step.\n",
              "function _uploadFilesContinue(outputId) {\n",
              "  const outputElement = document.getElementById(outputId);\n",
              "  const steps = outputElement.steps;\n",
              "\n",
              "  const next = steps.next(outputElement.lastPromiseValue);\n",
              "  return Promise.resolve(next.value.promise).then((value) => {\n",
              "    // Cache the last promise value to make it available to the next\n",
              "    // step of the generator.\n",
              "    outputElement.lastPromiseValue = value;\n",
              "    return next.value.response;\n",
              "  });\n",
              "}\n",
              "\n",
              "/**\n",
              " * Generator function which is called between each async step of the upload\n",
              " * process.\n",
              " * @param {string} inputId Element ID of the input file picker element.\n",
              " * @param {string} outputId Element ID of the output display.\n",
              " * @return {!Iterable<!Object>} Iterable of next steps.\n",
              " */\n",
              "function* uploadFilesStep(inputId, outputId) {\n",
              "  const inputElement = document.getElementById(inputId);\n",
              "  inputElement.disabled = false;\n",
              "\n",
              "  const outputElement = document.getElementById(outputId);\n",
              "  outputElement.innerHTML = '';\n",
              "\n",
              "  const pickedPromise = new Promise((resolve) => {\n",
              "    inputElement.addEventListener('change', (e) => {\n",
              "      resolve(e.target.files);\n",
              "    });\n",
              "  });\n",
              "\n",
              "  const cancel = document.createElement('button');\n",
              "  inputElement.parentElement.appendChild(cancel);\n",
              "  cancel.textContent = 'Cancel upload';\n",
              "  const cancelPromise = new Promise((resolve) => {\n",
              "    cancel.onclick = () => {\n",
              "      resolve(null);\n",
              "    };\n",
              "  });\n",
              "\n",
              "  // Wait for the user to pick the files.\n",
              "  const files = yield {\n",
              "    promise: Promise.race([pickedPromise, cancelPromise]),\n",
              "    response: {\n",
              "      action: 'starting',\n",
              "    }\n",
              "  };\n",
              "\n",
              "  cancel.remove();\n",
              "\n",
              "  // Disable the input element since further picks are not allowed.\n",
              "  inputElement.disabled = true;\n",
              "\n",
              "  if (!files) {\n",
              "    return {\n",
              "      response: {\n",
              "        action: 'complete',\n",
              "      }\n",
              "    };\n",
              "  }\n",
              "\n",
              "  for (const file of files) {\n",
              "    const li = document.createElement('li');\n",
              "    li.append(span(file.name, {fontWeight: 'bold'}));\n",
              "    li.append(span(\n",
              "        `(${file.type || 'n/a'}) - ${file.size} bytes, ` +\n",
              "        `last modified: ${\n",
              "            file.lastModifiedDate ? file.lastModifiedDate.toLocaleDateString() :\n",
              "                                    'n/a'} - `));\n",
              "    const percent = span('0% done');\n",
              "    li.appendChild(percent);\n",
              "\n",
              "    outputElement.appendChild(li);\n",
              "\n",
              "    const fileDataPromise = new Promise((resolve) => {\n",
              "      const reader = new FileReader();\n",
              "      reader.onload = (e) => {\n",
              "        resolve(e.target.result);\n",
              "      };\n",
              "      reader.readAsArrayBuffer(file);\n",
              "    });\n",
              "    // Wait for the data to be ready.\n",
              "    let fileData = yield {\n",
              "      promise: fileDataPromise,\n",
              "      response: {\n",
              "        action: 'continue',\n",
              "      }\n",
              "    };\n",
              "\n",
              "    // Use a chunked sending to avoid message size limits. See b/62115660.\n",
              "    let position = 0;\n",
              "    do {\n",
              "      const length = Math.min(fileData.byteLength - position, MAX_PAYLOAD_SIZE);\n",
              "      const chunk = new Uint8Array(fileData, position, length);\n",
              "      position += length;\n",
              "\n",
              "      const base64 = btoa(String.fromCharCode.apply(null, chunk));\n",
              "      yield {\n",
              "        response: {\n",
              "          action: 'append',\n",
              "          file: file.name,\n",
              "          data: base64,\n",
              "        },\n",
              "      };\n",
              "\n",
              "      let percentDone = fileData.byteLength === 0 ?\n",
              "          100 :\n",
              "          Math.round((position / fileData.byteLength) * 100);\n",
              "      percent.textContent = `${percentDone}% done`;\n",
              "\n",
              "    } while (position < fileData.byteLength);\n",
              "  }\n",
              "\n",
              "  // All done.\n",
              "  yield {\n",
              "    response: {\n",
              "      action: 'complete',\n",
              "    }\n",
              "  };\n",
              "}\n",
              "\n",
              "scope.google = scope.google || {};\n",
              "scope.google.colab = scope.google.colab || {};\n",
              "scope.google.colab._files = {\n",
              "  _uploadFiles,\n",
              "  _uploadFilesContinue,\n",
              "};\n",
              "})(self);\n",
              "</script> "
            ]
          },
          "metadata": {}
        },
        {
          "output_type": "stream",
          "name": "stdout",
          "text": [
            "Saving BMW_Car_Sales_Classification.csv to BMW_Car_Sales_Classification.csv\n"
          ]
        }
      ]
    },
    {
      "cell_type": "markdown",
      "source": [
        "## #️⃣ Loading the file"
      ],
      "metadata": {
        "id": "0g3P4Ape5LEs"
      }
    },
    {
      "cell_type": "code",
      "source": [
        "df = pd.read_csv(\"BMW_Car_Sales_Classification.csv\")"
      ],
      "metadata": {
        "id": "uBEyyOMqwbIa"
      },
      "execution_count": 3,
      "outputs": []
    },
    {
      "cell_type": "markdown",
      "source": [
        "## #️⃣️ checking the file"
      ],
      "metadata": {
        "id": "sw-nF2-P5a2b"
      }
    },
    {
      "cell_type": "code",
      "source": [
        "print(df.head())"
      ],
      "metadata": {
        "colab": {
          "base_uri": "https://localhost:8080/"
        },
        "id": "fdhLZH805mLK",
        "outputId": "26a4b7d1-588d-4b04-f92d-147ef0e3db68"
      },
      "execution_count": null,
      "outputs": [
        {
          "output_type": "stream",
          "name": "stdout",
          "text": [
            "      Model  Year         Region  Color Fuel_Type Transmission  Engine_Size_L  \\\n",
            "0  5 Series  2016           Asia    Red    Petrol       Manual            3.5   \n",
            "1        i8  2013  North America    Red    Hybrid    Automatic            1.6   \n",
            "2  5 Series  2022  North America   Blue    Petrol    Automatic            4.5   \n",
            "3        X3  2024    Middle East   Blue    Petrol    Automatic            1.7   \n",
            "4  7 Series  2020  South America  Black    Diesel       Manual            2.1   \n",
            "\n",
            "   Mileage_KM  Price_USD  Sales_Volume Sales_Classification  \n",
            "0      151748      98740          8300                 High  \n",
            "1      121671      79219          3428                  Low  \n",
            "2       10991     113265          6994                  Low  \n",
            "3       27255      60971          4047                  Low  \n",
            "4      122131      49898          3080                  Low  \n"
          ]
        }
      ]
    },
    {
      "cell_type": "markdown",
      "source": [
        "### #️⃣ Get the shape of the dataset (rows, columns)"
      ],
      "metadata": {
        "id": "b3PawE016Kw6"
      }
    },
    {
      "cell_type": "code",
      "source": [
        "print(df.shape) # rows number, column numbers"
      ],
      "metadata": {
        "colab": {
          "base_uri": "https://localhost:8080/"
        },
        "id": "zwxCjVS_5prb",
        "outputId": "c6394eab-cc7f-478c-d317-4d17a0ac0e89"
      },
      "execution_count": null,
      "outputs": [
        {
          "output_type": "stream",
          "name": "stdout",
          "text": [
            "(50000, 11)\n"
          ]
        }
      ]
    },
    {
      "cell_type": "markdown",
      "source": [
        "### #️⃣ basic information about columns, data types, and null values"
      ],
      "metadata": {
        "id": "xJTHnIgb6u-4"
      }
    },
    {
      "cell_type": "code",
      "source": [
        "df.info()"
      ],
      "metadata": {
        "colab": {
          "base_uri": "https://localhost:8080/"
        },
        "id": "Im5jr-e66Tmp",
        "outputId": "46bc4d54-4baf-4b6d-86c3-b0016191e41e"
      },
      "execution_count": null,
      "outputs": [
        {
          "output_type": "stream",
          "name": "stdout",
          "text": [
            "<class 'pandas.core.frame.DataFrame'>\n",
            "RangeIndex: 50000 entries, 0 to 49999\n",
            "Data columns (total 11 columns):\n",
            " #   Column                Non-Null Count  Dtype  \n",
            "---  ------                --------------  -----  \n",
            " 0   Model                 50000 non-null  object \n",
            " 1   Year                  50000 non-null  int64  \n",
            " 2   Region                50000 non-null  object \n",
            " 3   Color                 50000 non-null  object \n",
            " 4   Fuel_Type             50000 non-null  object \n",
            " 5   Transmission          50000 non-null  object \n",
            " 6   Engine_Size_L         50000 non-null  float64\n",
            " 7   Mileage_KM            50000 non-null  int64  \n",
            " 8   Price_USD             50000 non-null  int64  \n",
            " 9   Sales_Volume          50000 non-null  int64  \n",
            " 10  Sales_Classification  50000 non-null  object \n",
            "dtypes: float64(1), int64(4), object(6)\n",
            "memory usage: 4.2+ MB\n"
          ]
        }
      ]
    },
    {
      "cell_type": "markdown",
      "source": [
        "### #️⃣️  columns"
      ],
      "metadata": {
        "id": "5TUmQTEV7ngf"
      }
    },
    {
      "cell_type": "code",
      "source": [
        "df.columns"
      ],
      "metadata": {
        "colab": {
          "base_uri": "https://localhost:8080/"
        },
        "id": "SnzC--Fb7UBn",
        "outputId": "ffa00928-7b3d-48d6-9867-7ff6678ccede"
      },
      "execution_count": null,
      "outputs": [
        {
          "output_type": "execute_result",
          "data": {
            "text/plain": [
              "Index(['Model', 'Year', 'Region', 'Color', 'Fuel_Type', 'Transmission',\n",
              "       'Engine_Size_L', 'Mileage_KM', 'Price_USD', 'Sales_Volume',\n",
              "       'Sales_Classification'],\n",
              "      dtype='object')"
            ]
          },
          "metadata": {},
          "execution_count": 16
        }
      ]
    },
    {
      "cell_type": "markdown",
      "source": [
        "### #️⃣ ️   Details"
      ],
      "metadata": {
        "id": "Ay4ANiv88FnL"
      }
    },
    {
      "cell_type": "code",
      "source": [
        "df.describe()"
      ],
      "metadata": {
        "colab": {
          "base_uri": "https://localhost:8080/",
          "height": 300
        },
        "id": "tcJSjNOz7xfu",
        "outputId": "59db20eb-d248-4e9c-b7db-71a332b644a9"
      },
      "execution_count": null,
      "outputs": [
        {
          "output_type": "execute_result",
          "data": {
            "text/plain": [
              "               Year  Engine_Size_L     Mileage_KM      Price_USD  Sales_Volume\n",
              "count  50000.000000   50000.000000   50000.000000   50000.000000  50000.000000\n",
              "mean    2017.015700       3.247180  100307.203140   75034.600900   5067.514680\n",
              "std        4.324459       1.009078   57941.509344   25998.248882   2856.767125\n",
              "min     2010.000000       1.500000       3.000000   30000.000000    100.000000\n",
              "25%     2013.000000       2.400000   50178.000000   52434.750000   2588.000000\n",
              "50%     2017.000000       3.200000  100388.500000   75011.500000   5087.000000\n",
              "75%     2021.000000       4.100000  150630.250000   97628.250000   7537.250000\n",
              "max     2024.000000       5.000000  199996.000000  119998.000000   9999.000000"
            ],
            "text/html": [
              "\n",
              "  <div id=\"df-0b534e07-dd34-4b31-82d2-0acadc5e0cad\" class=\"colab-df-container\">\n",
              "    <div>\n",
              "<style scoped>\n",
              "    .dataframe tbody tr th:only-of-type {\n",
              "        vertical-align: middle;\n",
              "    }\n",
              "\n",
              "    .dataframe tbody tr th {\n",
              "        vertical-align: top;\n",
              "    }\n",
              "\n",
              "    .dataframe thead th {\n",
              "        text-align: right;\n",
              "    }\n",
              "</style>\n",
              "<table border=\"1\" class=\"dataframe\">\n",
              "  <thead>\n",
              "    <tr style=\"text-align: right;\">\n",
              "      <th></th>\n",
              "      <th>Year</th>\n",
              "      <th>Engine_Size_L</th>\n",
              "      <th>Mileage_KM</th>\n",
              "      <th>Price_USD</th>\n",
              "      <th>Sales_Volume</th>\n",
              "    </tr>\n",
              "  </thead>\n",
              "  <tbody>\n",
              "    <tr>\n",
              "      <th>count</th>\n",
              "      <td>50000.000000</td>\n",
              "      <td>50000.000000</td>\n",
              "      <td>50000.000000</td>\n",
              "      <td>50000.000000</td>\n",
              "      <td>50000.000000</td>\n",
              "    </tr>\n",
              "    <tr>\n",
              "      <th>mean</th>\n",
              "      <td>2017.015700</td>\n",
              "      <td>3.247180</td>\n",
              "      <td>100307.203140</td>\n",
              "      <td>75034.600900</td>\n",
              "      <td>5067.514680</td>\n",
              "    </tr>\n",
              "    <tr>\n",
              "      <th>std</th>\n",
              "      <td>4.324459</td>\n",
              "      <td>1.009078</td>\n",
              "      <td>57941.509344</td>\n",
              "      <td>25998.248882</td>\n",
              "      <td>2856.767125</td>\n",
              "    </tr>\n",
              "    <tr>\n",
              "      <th>min</th>\n",
              "      <td>2010.000000</td>\n",
              "      <td>1.500000</td>\n",
              "      <td>3.000000</td>\n",
              "      <td>30000.000000</td>\n",
              "      <td>100.000000</td>\n",
              "    </tr>\n",
              "    <tr>\n",
              "      <th>25%</th>\n",
              "      <td>2013.000000</td>\n",
              "      <td>2.400000</td>\n",
              "      <td>50178.000000</td>\n",
              "      <td>52434.750000</td>\n",
              "      <td>2588.000000</td>\n",
              "    </tr>\n",
              "    <tr>\n",
              "      <th>50%</th>\n",
              "      <td>2017.000000</td>\n",
              "      <td>3.200000</td>\n",
              "      <td>100388.500000</td>\n",
              "      <td>75011.500000</td>\n",
              "      <td>5087.000000</td>\n",
              "    </tr>\n",
              "    <tr>\n",
              "      <th>75%</th>\n",
              "      <td>2021.000000</td>\n",
              "      <td>4.100000</td>\n",
              "      <td>150630.250000</td>\n",
              "      <td>97628.250000</td>\n",
              "      <td>7537.250000</td>\n",
              "    </tr>\n",
              "    <tr>\n",
              "      <th>max</th>\n",
              "      <td>2024.000000</td>\n",
              "      <td>5.000000</td>\n",
              "      <td>199996.000000</td>\n",
              "      <td>119998.000000</td>\n",
              "      <td>9999.000000</td>\n",
              "    </tr>\n",
              "  </tbody>\n",
              "</table>\n",
              "</div>\n",
              "    <div class=\"colab-df-buttons\">\n",
              "\n",
              "  <div class=\"colab-df-container\">\n",
              "    <button class=\"colab-df-convert\" onclick=\"convertToInteractive('df-0b534e07-dd34-4b31-82d2-0acadc5e0cad')\"\n",
              "            title=\"Convert this dataframe to an interactive table.\"\n",
              "            style=\"display:none;\">\n",
              "\n",
              "  <svg xmlns=\"http://www.w3.org/2000/svg\" height=\"24px\" viewBox=\"0 -960 960 960\">\n",
              "    <path d=\"M120-120v-720h720v720H120Zm60-500h600v-160H180v160Zm220 220h160v-160H400v160Zm0 220h160v-160H400v160ZM180-400h160v-160H180v160Zm440 0h160v-160H620v160ZM180-180h160v-160H180v160Zm440 0h160v-160H620v160Z\"/>\n",
              "  </svg>\n",
              "    </button>\n",
              "\n",
              "  <style>\n",
              "    .colab-df-container {\n",
              "      display:flex;\n",
              "      gap: 12px;\n",
              "    }\n",
              "\n",
              "    .colab-df-convert {\n",
              "      background-color: #E8F0FE;\n",
              "      border: none;\n",
              "      border-radius: 50%;\n",
              "      cursor: pointer;\n",
              "      display: none;\n",
              "      fill: #1967D2;\n",
              "      height: 32px;\n",
              "      padding: 0 0 0 0;\n",
              "      width: 32px;\n",
              "    }\n",
              "\n",
              "    .colab-df-convert:hover {\n",
              "      background-color: #E2EBFA;\n",
              "      box-shadow: 0px 1px 2px rgba(60, 64, 67, 0.3), 0px 1px 3px 1px rgba(60, 64, 67, 0.15);\n",
              "      fill: #174EA6;\n",
              "    }\n",
              "\n",
              "    .colab-df-buttons div {\n",
              "      margin-bottom: 4px;\n",
              "    }\n",
              "\n",
              "    [theme=dark] .colab-df-convert {\n",
              "      background-color: #3B4455;\n",
              "      fill: #D2E3FC;\n",
              "    }\n",
              "\n",
              "    [theme=dark] .colab-df-convert:hover {\n",
              "      background-color: #434B5C;\n",
              "      box-shadow: 0px 1px 3px 1px rgba(0, 0, 0, 0.15);\n",
              "      filter: drop-shadow(0px 1px 2px rgba(0, 0, 0, 0.3));\n",
              "      fill: #FFFFFF;\n",
              "    }\n",
              "  </style>\n",
              "\n",
              "    <script>\n",
              "      const buttonEl =\n",
              "        document.querySelector('#df-0b534e07-dd34-4b31-82d2-0acadc5e0cad button.colab-df-convert');\n",
              "      buttonEl.style.display =\n",
              "        google.colab.kernel.accessAllowed ? 'block' : 'none';\n",
              "\n",
              "      async function convertToInteractive(key) {\n",
              "        const element = document.querySelector('#df-0b534e07-dd34-4b31-82d2-0acadc5e0cad');\n",
              "        const dataTable =\n",
              "          await google.colab.kernel.invokeFunction('convertToInteractive',\n",
              "                                                    [key], {});\n",
              "        if (!dataTable) return;\n",
              "\n",
              "        const docLinkHtml = 'Like what you see? Visit the ' +\n",
              "          '<a target=\"_blank\" href=https://colab.research.google.com/notebooks/data_table.ipynb>data table notebook</a>'\n",
              "          + ' to learn more about interactive tables.';\n",
              "        element.innerHTML = '';\n",
              "        dataTable['output_type'] = 'display_data';\n",
              "        await google.colab.output.renderOutput(dataTable, element);\n",
              "        const docLink = document.createElement('div');\n",
              "        docLink.innerHTML = docLinkHtml;\n",
              "        element.appendChild(docLink);\n",
              "      }\n",
              "    </script>\n",
              "  </div>\n",
              "\n",
              "\n",
              "    <div id=\"df-ef7cd5df-fc9c-4dde-9e61-1bd79f1f7b32\">\n",
              "      <button class=\"colab-df-quickchart\" onclick=\"quickchart('df-ef7cd5df-fc9c-4dde-9e61-1bd79f1f7b32')\"\n",
              "                title=\"Suggest charts\"\n",
              "                style=\"display:none;\">\n",
              "\n",
              "<svg xmlns=\"http://www.w3.org/2000/svg\" height=\"24px\"viewBox=\"0 0 24 24\"\n",
              "     width=\"24px\">\n",
              "    <g>\n",
              "        <path d=\"M19 3H5c-1.1 0-2 .9-2 2v14c0 1.1.9 2 2 2h14c1.1 0 2-.9 2-2V5c0-1.1-.9-2-2-2zM9 17H7v-7h2v7zm4 0h-2V7h2v10zm4 0h-2v-4h2v4z\"/>\n",
              "    </g>\n",
              "</svg>\n",
              "      </button>\n",
              "\n",
              "<style>\n",
              "  .colab-df-quickchart {\n",
              "      --bg-color: #E8F0FE;\n",
              "      --fill-color: #1967D2;\n",
              "      --hover-bg-color: #E2EBFA;\n",
              "      --hover-fill-color: #174EA6;\n",
              "      --disabled-fill-color: #AAA;\n",
              "      --disabled-bg-color: #DDD;\n",
              "  }\n",
              "\n",
              "  [theme=dark] .colab-df-quickchart {\n",
              "      --bg-color: #3B4455;\n",
              "      --fill-color: #D2E3FC;\n",
              "      --hover-bg-color: #434B5C;\n",
              "      --hover-fill-color: #FFFFFF;\n",
              "      --disabled-bg-color: #3B4455;\n",
              "      --disabled-fill-color: #666;\n",
              "  }\n",
              "\n",
              "  .colab-df-quickchart {\n",
              "    background-color: var(--bg-color);\n",
              "    border: none;\n",
              "    border-radius: 50%;\n",
              "    cursor: pointer;\n",
              "    display: none;\n",
              "    fill: var(--fill-color);\n",
              "    height: 32px;\n",
              "    padding: 0;\n",
              "    width: 32px;\n",
              "  }\n",
              "\n",
              "  .colab-df-quickchart:hover {\n",
              "    background-color: var(--hover-bg-color);\n",
              "    box-shadow: 0 1px 2px rgba(60, 64, 67, 0.3), 0 1px 3px 1px rgba(60, 64, 67, 0.15);\n",
              "    fill: var(--button-hover-fill-color);\n",
              "  }\n",
              "\n",
              "  .colab-df-quickchart-complete:disabled,\n",
              "  .colab-df-quickchart-complete:disabled:hover {\n",
              "    background-color: var(--disabled-bg-color);\n",
              "    fill: var(--disabled-fill-color);\n",
              "    box-shadow: none;\n",
              "  }\n",
              "\n",
              "  .colab-df-spinner {\n",
              "    border: 2px solid var(--fill-color);\n",
              "    border-color: transparent;\n",
              "    border-bottom-color: var(--fill-color);\n",
              "    animation:\n",
              "      spin 1s steps(1) infinite;\n",
              "  }\n",
              "\n",
              "  @keyframes spin {\n",
              "    0% {\n",
              "      border-color: transparent;\n",
              "      border-bottom-color: var(--fill-color);\n",
              "      border-left-color: var(--fill-color);\n",
              "    }\n",
              "    20% {\n",
              "      border-color: transparent;\n",
              "      border-left-color: var(--fill-color);\n",
              "      border-top-color: var(--fill-color);\n",
              "    }\n",
              "    30% {\n",
              "      border-color: transparent;\n",
              "      border-left-color: var(--fill-color);\n",
              "      border-top-color: var(--fill-color);\n",
              "      border-right-color: var(--fill-color);\n",
              "    }\n",
              "    40% {\n",
              "      border-color: transparent;\n",
              "      border-right-color: var(--fill-color);\n",
              "      border-top-color: var(--fill-color);\n",
              "    }\n",
              "    60% {\n",
              "      border-color: transparent;\n",
              "      border-right-color: var(--fill-color);\n",
              "    }\n",
              "    80% {\n",
              "      border-color: transparent;\n",
              "      border-right-color: var(--fill-color);\n",
              "      border-bottom-color: var(--fill-color);\n",
              "    }\n",
              "    90% {\n",
              "      border-color: transparent;\n",
              "      border-bottom-color: var(--fill-color);\n",
              "    }\n",
              "  }\n",
              "</style>\n",
              "\n",
              "      <script>\n",
              "        async function quickchart(key) {\n",
              "          const quickchartButtonEl =\n",
              "            document.querySelector('#' + key + ' button');\n",
              "          quickchartButtonEl.disabled = true;  // To prevent multiple clicks.\n",
              "          quickchartButtonEl.classList.add('colab-df-spinner');\n",
              "          try {\n",
              "            const charts = await google.colab.kernel.invokeFunction(\n",
              "                'suggestCharts', [key], {});\n",
              "          } catch (error) {\n",
              "            console.error('Error during call to suggestCharts:', error);\n",
              "          }\n",
              "          quickchartButtonEl.classList.remove('colab-df-spinner');\n",
              "          quickchartButtonEl.classList.add('colab-df-quickchart-complete');\n",
              "        }\n",
              "        (() => {\n",
              "          let quickchartButtonEl =\n",
              "            document.querySelector('#df-ef7cd5df-fc9c-4dde-9e61-1bd79f1f7b32 button');\n",
              "          quickchartButtonEl.style.display =\n",
              "            google.colab.kernel.accessAllowed ? 'block' : 'none';\n",
              "        })();\n",
              "      </script>\n",
              "    </div>\n",
              "\n",
              "    </div>\n",
              "  </div>\n"
            ],
            "application/vnd.google.colaboratory.intrinsic+json": {
              "type": "dataframe",
              "summary": "{\n  \"name\": \"df\",\n  \"rows\": 8,\n  \"fields\": [\n    {\n      \"column\": \"Year\",\n      \"properties\": {\n        \"dtype\": \"number\",\n        \"std\": 17080.733758236962,\n        \"min\": 4.32445921809319,\n        \"max\": 50000.0,\n        \"num_unique_values\": 8,\n        \"samples\": [\n          2017.0157,\n          2017.0,\n          50000.0\n        ],\n        \"semantic_type\": \"\",\n        \"description\": \"\"\n      }\n    },\n    {\n      \"column\": \"Engine_Size_L\",\n      \"properties\": {\n        \"dtype\": \"number\",\n        \"std\": 17676.63638044432,\n        \"min\": 1.0090783975412023,\n        \"max\": 50000.0,\n        \"num_unique_values\": 8,\n        \"samples\": [\n          3.24718,\n          3.2,\n          50000.0\n        ],\n        \"semantic_type\": \"\",\n        \"description\": \"\"\n      }\n    },\n    {\n      \"column\": \"Mileage_KM\",\n      \"properties\": {\n        \"dtype\": \"number\",\n        \"std\": 63570.40831631417,\n        \"min\": 3.0,\n        \"max\": 199996.0,\n        \"num_unique_values\": 8,\n        \"samples\": [\n          100307.20314,\n          100388.5,\n          50000.0\n        ],\n        \"semantic_type\": \"\",\n        \"description\": \"\"\n      }\n    },\n    {\n      \"column\": \"Price_USD\",\n      \"properties\": {\n        \"dtype\": \"number\",\n        \"std\": 32545.942769731973,\n        \"min\": 25998.248881722626,\n        \"max\": 119998.0,\n        \"num_unique_values\": 8,\n        \"samples\": [\n          75034.6009,\n          75011.5,\n          50000.0\n        ],\n        \"semantic_type\": \"\",\n        \"description\": \"\"\n      }\n    },\n    {\n      \"column\": \"Sales_Volume\",\n      \"properties\": {\n        \"dtype\": \"number\",\n        \"std\": 16288.458032957327,\n        \"min\": 100.0,\n        \"max\": 50000.0,\n        \"num_unique_values\": 8,\n        \"samples\": [\n          5067.51468,\n          5087.0,\n          50000.0\n        ],\n        \"semantic_type\": \"\",\n        \"description\": \"\"\n      }\n    }\n  ]\n}"
            }
          },
          "metadata": {},
          "execution_count": 27
        }
      ]
    },
    {
      "cell_type": "markdown",
      "source": [
        "### #️⃣Checking missing values it checks null values in each columns"
      ],
      "metadata": {
        "id": "Ndccdslc83F6"
      }
    },
    {
      "cell_type": "code",
      "source": [
        "df.isnull().sum() #  if found null it sums those up"
      ],
      "metadata": {
        "colab": {
          "base_uri": "https://localhost:8080/",
          "height": 429
        },
        "id": "KNQoDKZs8C0k",
        "outputId": "67a5ddbb-eb79-4711-939b-38c6b92829c0"
      },
      "execution_count": null,
      "outputs": [
        {
          "output_type": "execute_result",
          "data": {
            "text/plain": [
              "Model                   0\n",
              "Year                    0\n",
              "Region                  0\n",
              "Color                   0\n",
              "Fuel_Type               0\n",
              "Transmission            0\n",
              "Engine_Size_L           0\n",
              "Mileage_KM              0\n",
              "Price_USD               0\n",
              "Sales_Volume            0\n",
              "Sales_Classification    0\n",
              "dtype: int64"
            ],
            "text/html": [
              "<div>\n",
              "<style scoped>\n",
              "    .dataframe tbody tr th:only-of-type {\n",
              "        vertical-align: middle;\n",
              "    }\n",
              "\n",
              "    .dataframe tbody tr th {\n",
              "        vertical-align: top;\n",
              "    }\n",
              "\n",
              "    .dataframe thead th {\n",
              "        text-align: right;\n",
              "    }\n",
              "</style>\n",
              "<table border=\"1\" class=\"dataframe\">\n",
              "  <thead>\n",
              "    <tr style=\"text-align: right;\">\n",
              "      <th></th>\n",
              "      <th>0</th>\n",
              "    </tr>\n",
              "  </thead>\n",
              "  <tbody>\n",
              "    <tr>\n",
              "      <th>Model</th>\n",
              "      <td>0</td>\n",
              "    </tr>\n",
              "    <tr>\n",
              "      <th>Year</th>\n",
              "      <td>0</td>\n",
              "    </tr>\n",
              "    <tr>\n",
              "      <th>Region</th>\n",
              "      <td>0</td>\n",
              "    </tr>\n",
              "    <tr>\n",
              "      <th>Color</th>\n",
              "      <td>0</td>\n",
              "    </tr>\n",
              "    <tr>\n",
              "      <th>Fuel_Type</th>\n",
              "      <td>0</td>\n",
              "    </tr>\n",
              "    <tr>\n",
              "      <th>Transmission</th>\n",
              "      <td>0</td>\n",
              "    </tr>\n",
              "    <tr>\n",
              "      <th>Engine_Size_L</th>\n",
              "      <td>0</td>\n",
              "    </tr>\n",
              "    <tr>\n",
              "      <th>Mileage_KM</th>\n",
              "      <td>0</td>\n",
              "    </tr>\n",
              "    <tr>\n",
              "      <th>Price_USD</th>\n",
              "      <td>0</td>\n",
              "    </tr>\n",
              "    <tr>\n",
              "      <th>Sales_Volume</th>\n",
              "      <td>0</td>\n",
              "    </tr>\n",
              "    <tr>\n",
              "      <th>Sales_Classification</th>\n",
              "      <td>0</td>\n",
              "    </tr>\n",
              "  </tbody>\n",
              "</table>\n",
              "</div><br><label><b>dtype:</b> int64</label>"
            ]
          },
          "metadata": {},
          "execution_count": 8
        }
      ]
    },
    {
      "cell_type": "markdown",
      "source": [
        "### #️⃣️  checking the duplicate rows if any"
      ],
      "metadata": {
        "id": "yYvX-Sm7-bPI"
      }
    },
    {
      "cell_type": "code",
      "source": [
        "df[df.duplicated()]"
      ],
      "metadata": {
        "colab": {
          "base_uri": "https://localhost:8080/",
          "height": 53
        },
        "id": "QsCyaqns9vux",
        "outputId": "ebd6ed80-9599-47f0-f5fb-090d59161040"
      },
      "execution_count": null,
      "outputs": [
        {
          "output_type": "execute_result",
          "data": {
            "text/plain": [
              "Empty DataFrame\n",
              "Columns: [Model, Year, Region, Color, Fuel_Type, Transmission, Engine_Size_L, Mileage_KM, Price_USD, Sales_Volume, Sales_Classification]\n",
              "Index: []"
            ],
            "text/html": [
              "\n",
              "  <div id=\"df-1bab44a5-7ea4-48cb-81fa-b687b3519691\" class=\"colab-df-container\">\n",
              "    <div>\n",
              "<style scoped>\n",
              "    .dataframe tbody tr th:only-of-type {\n",
              "        vertical-align: middle;\n",
              "    }\n",
              "\n",
              "    .dataframe tbody tr th {\n",
              "        vertical-align: top;\n",
              "    }\n",
              "\n",
              "    .dataframe thead th {\n",
              "        text-align: right;\n",
              "    }\n",
              "</style>\n",
              "<table border=\"1\" class=\"dataframe\">\n",
              "  <thead>\n",
              "    <tr style=\"text-align: right;\">\n",
              "      <th></th>\n",
              "      <th>Model</th>\n",
              "      <th>Year</th>\n",
              "      <th>Region</th>\n",
              "      <th>Color</th>\n",
              "      <th>Fuel_Type</th>\n",
              "      <th>Transmission</th>\n",
              "      <th>Engine_Size_L</th>\n",
              "      <th>Mileage_KM</th>\n",
              "      <th>Price_USD</th>\n",
              "      <th>Sales_Volume</th>\n",
              "      <th>Sales_Classification</th>\n",
              "    </tr>\n",
              "  </thead>\n",
              "  <tbody>\n",
              "  </tbody>\n",
              "</table>\n",
              "</div>\n",
              "    <div class=\"colab-df-buttons\">\n",
              "\n",
              "  <div class=\"colab-df-container\">\n",
              "    <button class=\"colab-df-convert\" onclick=\"convertToInteractive('df-1bab44a5-7ea4-48cb-81fa-b687b3519691')\"\n",
              "            title=\"Convert this dataframe to an interactive table.\"\n",
              "            style=\"display:none;\">\n",
              "\n",
              "  <svg xmlns=\"http://www.w3.org/2000/svg\" height=\"24px\" viewBox=\"0 -960 960 960\">\n",
              "    <path d=\"M120-120v-720h720v720H120Zm60-500h600v-160H180v160Zm220 220h160v-160H400v160Zm0 220h160v-160H400v160ZM180-400h160v-160H180v160Zm440 0h160v-160H620v160ZM180-180h160v-160H180v160Zm440 0h160v-160H620v160Z\"/>\n",
              "  </svg>\n",
              "    </button>\n",
              "\n",
              "  <style>\n",
              "    .colab-df-container {\n",
              "      display:flex;\n",
              "      gap: 12px;\n",
              "    }\n",
              "\n",
              "    .colab-df-convert {\n",
              "      background-color: #E8F0FE;\n",
              "      border: none;\n",
              "      border-radius: 50%;\n",
              "      cursor: pointer;\n",
              "      display: none;\n",
              "      fill: #1967D2;\n",
              "      height: 32px;\n",
              "      padding: 0 0 0 0;\n",
              "      width: 32px;\n",
              "    }\n",
              "\n",
              "    .colab-df-convert:hover {\n",
              "      background-color: #E2EBFA;\n",
              "      box-shadow: 0px 1px 2px rgba(60, 64, 67, 0.3), 0px 1px 3px 1px rgba(60, 64, 67, 0.15);\n",
              "      fill: #174EA6;\n",
              "    }\n",
              "\n",
              "    .colab-df-buttons div {\n",
              "      margin-bottom: 4px;\n",
              "    }\n",
              "\n",
              "    [theme=dark] .colab-df-convert {\n",
              "      background-color: #3B4455;\n",
              "      fill: #D2E3FC;\n",
              "    }\n",
              "\n",
              "    [theme=dark] .colab-df-convert:hover {\n",
              "      background-color: #434B5C;\n",
              "      box-shadow: 0px 1px 3px 1px rgba(0, 0, 0, 0.15);\n",
              "      filter: drop-shadow(0px 1px 2px rgba(0, 0, 0, 0.3));\n",
              "      fill: #FFFFFF;\n",
              "    }\n",
              "  </style>\n",
              "\n",
              "    <script>\n",
              "      const buttonEl =\n",
              "        document.querySelector('#df-1bab44a5-7ea4-48cb-81fa-b687b3519691 button.colab-df-convert');\n",
              "      buttonEl.style.display =\n",
              "        google.colab.kernel.accessAllowed ? 'block' : 'none';\n",
              "\n",
              "      async function convertToInteractive(key) {\n",
              "        const element = document.querySelector('#df-1bab44a5-7ea4-48cb-81fa-b687b3519691');\n",
              "        const dataTable =\n",
              "          await google.colab.kernel.invokeFunction('convertToInteractive',\n",
              "                                                    [key], {});\n",
              "        if (!dataTable) return;\n",
              "\n",
              "        const docLinkHtml = 'Like what you see? Visit the ' +\n",
              "          '<a target=\"_blank\" href=https://colab.research.google.com/notebooks/data_table.ipynb>data table notebook</a>'\n",
              "          + ' to learn more about interactive tables.';\n",
              "        element.innerHTML = '';\n",
              "        dataTable['output_type'] = 'display_data';\n",
              "        await google.colab.output.renderOutput(dataTable, element);\n",
              "        const docLink = document.createElement('div');\n",
              "        docLink.innerHTML = docLinkHtml;\n",
              "        element.appendChild(docLink);\n",
              "      }\n",
              "    </script>\n",
              "  </div>\n",
              "\n",
              "\n",
              "    </div>\n",
              "  </div>\n"
            ],
            "application/vnd.google.colaboratory.intrinsic+json": {
              "type": "dataframe",
              "repr_error": "Out of range float values are not JSON compliant: nan"
            }
          },
          "metadata": {},
          "execution_count": 23
        }
      ]
    },
    {
      "cell_type": "markdown",
      "source": [
        "If dupliactes found"
      ],
      "metadata": {
        "id": "BV_a8FE8-14Q"
      }
    },
    {
      "cell_type": "code",
      "source": [
        "df.duplicated().sum()"
      ],
      "metadata": {
        "colab": {
          "base_uri": "https://localhost:8080/"
        },
        "id": "nJXiZSbV-3zd",
        "outputId": "e915fc32-1f53-4a57-8ef8-448d0d009a06"
      },
      "execution_count": null,
      "outputs": [
        {
          "output_type": "execute_result",
          "data": {
            "text/plain": [
              "np.int64(0)"
            ]
          },
          "metadata": {},
          "execution_count": 10
        }
      ]
    },
    {
      "cell_type": "markdown",
      "source": [
        "## ✅No Dupliactes found"
      ],
      "metadata": {
        "id": "ukf3PbkpjMNT"
      }
    },
    {
      "cell_type": "markdown",
      "source": [
        "### Hypothetically if duplicates were found"
      ],
      "metadata": {
        "id": "hv517-z_jWrr"
      }
    },
    {
      "cell_type": "markdown",
      "source": [
        "dropping the duplicates"
      ],
      "metadata": {
        "id": "vsYU2Wak--7_"
      }
    },
    {
      "cell_type": "code",
      "source": [
        "df = df.drop_duplicates()"
      ],
      "metadata": {
        "id": "brZW8hnF-782"
      },
      "execution_count": null,
      "outputs": []
    },
    {
      "cell_type": "markdown",
      "source": [
        "### Check where values are blank ('') or whitespace-only"
      ],
      "metadata": {
        "id": "Ty0dSSvJyRsb"
      }
    },
    {
      "cell_type": "code",
      "source": [
        "df_blnk = df.applymap(lambda X : isinstance(X, str) and X.strip() == \"\")\n",
        "df_blnk.sum()"
      ],
      "metadata": {
        "colab": {
          "base_uri": "https://localhost:8080/",
          "height": 466
        },
        "id": "FPZxFMXFyTXi",
        "outputId": "5a376cff-2532-4325-81f4-2c8ba5232469"
      },
      "execution_count": 6,
      "outputs": [
        {
          "output_type": "stream",
          "name": "stderr",
          "text": [
            "/tmp/ipython-input-6-2825036524.py:1: FutureWarning: DataFrame.applymap has been deprecated. Use DataFrame.map instead.\n",
            "  df_blnk = df.applymap(lambda X : isinstance(X, str) and X.strip() == \"\")\n"
          ]
        },
        {
          "output_type": "execute_result",
          "data": {
            "text/plain": [
              "Model                   0\n",
              "Year                    0\n",
              "Region                  0\n",
              "Color                   0\n",
              "Fuel_Type               0\n",
              "Transmission            0\n",
              "Engine_Size_L           0\n",
              "Mileage_KM              0\n",
              "Price_USD               0\n",
              "Sales_Volume            0\n",
              "Sales_Classification    0\n",
              "dtype: int64"
            ],
            "text/html": [
              "<div>\n",
              "<style scoped>\n",
              "    .dataframe tbody tr th:only-of-type {\n",
              "        vertical-align: middle;\n",
              "    }\n",
              "\n",
              "    .dataframe tbody tr th {\n",
              "        vertical-align: top;\n",
              "    }\n",
              "\n",
              "    .dataframe thead th {\n",
              "        text-align: right;\n",
              "    }\n",
              "</style>\n",
              "<table border=\"1\" class=\"dataframe\">\n",
              "  <thead>\n",
              "    <tr style=\"text-align: right;\">\n",
              "      <th></th>\n",
              "      <th>0</th>\n",
              "    </tr>\n",
              "  </thead>\n",
              "  <tbody>\n",
              "    <tr>\n",
              "      <th>Model</th>\n",
              "      <td>0</td>\n",
              "    </tr>\n",
              "    <tr>\n",
              "      <th>Year</th>\n",
              "      <td>0</td>\n",
              "    </tr>\n",
              "    <tr>\n",
              "      <th>Region</th>\n",
              "      <td>0</td>\n",
              "    </tr>\n",
              "    <tr>\n",
              "      <th>Color</th>\n",
              "      <td>0</td>\n",
              "    </tr>\n",
              "    <tr>\n",
              "      <th>Fuel_Type</th>\n",
              "      <td>0</td>\n",
              "    </tr>\n",
              "    <tr>\n",
              "      <th>Transmission</th>\n",
              "      <td>0</td>\n",
              "    </tr>\n",
              "    <tr>\n",
              "      <th>Engine_Size_L</th>\n",
              "      <td>0</td>\n",
              "    </tr>\n",
              "    <tr>\n",
              "      <th>Mileage_KM</th>\n",
              "      <td>0</td>\n",
              "    </tr>\n",
              "    <tr>\n",
              "      <th>Price_USD</th>\n",
              "      <td>0</td>\n",
              "    </tr>\n",
              "    <tr>\n",
              "      <th>Sales_Volume</th>\n",
              "      <td>0</td>\n",
              "    </tr>\n",
              "    <tr>\n",
              "      <th>Sales_Classification</th>\n",
              "      <td>0</td>\n",
              "    </tr>\n",
              "  </tbody>\n",
              "</table>\n",
              "</div><br><label><b>dtype:</b> int64</label>"
            ]
          },
          "metadata": {},
          "execution_count": 6
        }
      ]
    },
    {
      "cell_type": "markdown",
      "source": [
        "### so NO blank or whitespaces in between"
      ],
      "metadata": {
        "id": "7qrY0iO4Nlp3"
      }
    },
    {
      "cell_type": "markdown",
      "source": [
        "## 2️⃣ Check Data Integrity"
      ],
      "metadata": {
        "id": "pG3HaDCS_Yfd"
      }
    },
    {
      "cell_type": "markdown",
      "source": [
        "\n",
        "Price\" should not be negative, \"Year\" should be in a reasonable range, etc"
      ],
      "metadata": {
        "id": "3g33Yn7E_fDr"
      }
    },
    {
      "cell_type": "markdown",
      "source": [
        "### #️⃣Checking if price is negative"
      ],
      "metadata": {
        "id": "h-ogAxlNje0L"
      }
    },
    {
      "cell_type": "code",
      "source": [
        "df[df[\"Price_USD\"] < 0].sum() # no negative values"
      ],
      "metadata": {
        "colab": {
          "base_uri": "https://localhost:8080/",
          "height": 429
        },
        "id": "Nzy3pu6C_859",
        "outputId": "57080be1-a547-4cd7-862e-ca528dfbd96c"
      },
      "execution_count": null,
      "outputs": [
        {
          "output_type": "execute_result",
          "data": {
            "text/plain": [
              "Model                     0\n",
              "Year                      0\n",
              "Region                    0\n",
              "Color                     0\n",
              "Fuel_Type                 0\n",
              "Transmission              0\n",
              "Engine_Size_L           0.0\n",
              "Mileage_KM                0\n",
              "Price_USD                 0\n",
              "Sales_Volume              0\n",
              "Sales_Classification      0\n",
              "dtype: object"
            ],
            "text/html": [
              "<div>\n",
              "<style scoped>\n",
              "    .dataframe tbody tr th:only-of-type {\n",
              "        vertical-align: middle;\n",
              "    }\n",
              "\n",
              "    .dataframe tbody tr th {\n",
              "        vertical-align: top;\n",
              "    }\n",
              "\n",
              "    .dataframe thead th {\n",
              "        text-align: right;\n",
              "    }\n",
              "</style>\n",
              "<table border=\"1\" class=\"dataframe\">\n",
              "  <thead>\n",
              "    <tr style=\"text-align: right;\">\n",
              "      <th></th>\n",
              "      <th>0</th>\n",
              "    </tr>\n",
              "  </thead>\n",
              "  <tbody>\n",
              "    <tr>\n",
              "      <th>Model</th>\n",
              "      <td>0</td>\n",
              "    </tr>\n",
              "    <tr>\n",
              "      <th>Year</th>\n",
              "      <td>0</td>\n",
              "    </tr>\n",
              "    <tr>\n",
              "      <th>Region</th>\n",
              "      <td>0</td>\n",
              "    </tr>\n",
              "    <tr>\n",
              "      <th>Color</th>\n",
              "      <td>0</td>\n",
              "    </tr>\n",
              "    <tr>\n",
              "      <th>Fuel_Type</th>\n",
              "      <td>0</td>\n",
              "    </tr>\n",
              "    <tr>\n",
              "      <th>Transmission</th>\n",
              "      <td>0</td>\n",
              "    </tr>\n",
              "    <tr>\n",
              "      <th>Engine_Size_L</th>\n",
              "      <td>0.0</td>\n",
              "    </tr>\n",
              "    <tr>\n",
              "      <th>Mileage_KM</th>\n",
              "      <td>0</td>\n",
              "    </tr>\n",
              "    <tr>\n",
              "      <th>Price_USD</th>\n",
              "      <td>0</td>\n",
              "    </tr>\n",
              "    <tr>\n",
              "      <th>Sales_Volume</th>\n",
              "      <td>0</td>\n",
              "    </tr>\n",
              "    <tr>\n",
              "      <th>Sales_Classification</th>\n",
              "      <td>0</td>\n",
              "    </tr>\n",
              "  </tbody>\n",
              "</table>\n",
              "</div><br><label><b>dtype:</b> object</label>"
            ]
          },
          "metadata": {},
          "execution_count": 28
        }
      ]
    },
    {
      "cell_type": "markdown",
      "source": [
        "### #️⃣Checking if years are in range"
      ],
      "metadata": {
        "id": "4XOYthuHjjAW"
      }
    },
    {
      "cell_type": "code",
      "source": [
        "df[\"Year\"].min(), df[\"Year\"].max() # so year are also in reasonable range"
      ],
      "metadata": {
        "colab": {
          "base_uri": "https://localhost:8080/"
        },
        "id": "bZ3Cw-liARUz",
        "outputId": "4e2a4b55-fe6c-44cd-ded1-881d11bf4d0c"
      },
      "execution_count": null,
      "outputs": [
        {
          "output_type": "execute_result",
          "data": {
            "text/plain": [
              "(2010, 2024)"
            ]
          },
          "metadata": {},
          "execution_count": 28
        }
      ]
    },
    {
      "cell_type": "code",
      "source": [
        "invalid_years = df[(df[\"Year\"] < 1980) | (df[\"Year\"] > 2025)]\n",
        "print(invalid_years)"
      ],
      "metadata": {
        "colab": {
          "base_uri": "https://localhost:8080/"
        },
        "id": "0IoW1S_EApba",
        "outputId": "9ce5e768-7362-41fb-e682-8c5d97bc7511"
      },
      "execution_count": null,
      "outputs": [
        {
          "output_type": "stream",
          "name": "stdout",
          "text": [
            "Empty DataFrame\n",
            "Columns: [Model, Year, Region, Color, Fuel_Type, Transmission, Engine_Size_L, Mileage_KM, Price_USD, Sales_Volume, Sales_Classification]\n",
            "Index: []\n"
          ]
        }
      ]
    },
    {
      "cell_type": "markdown",
      "source": [
        "### #️⃣checking unique years, cars, etc\n",
        "\n",
        "nunique() directly gives the count of unique values in the column.\n",
        "To get unique years in ascending order, you can use either sorted() or numpy.sort()."
      ],
      "metadata": {
        "id": "8JXc2fjpOvdL"
      }
    },
    {
      "cell_type": "code",
      "source": [
        "sorted_years = sorted(df[\"Year\"].unique().tolist())\n",
        "print(sorted_years)"
      ],
      "metadata": {
        "colab": {
          "base_uri": "https://localhost:8080/"
        },
        "id": "OpJGFpoJOjaT",
        "outputId": "84154bf3-d26c-4327-f0bb-2c1df717545d"
      },
      "execution_count": null,
      "outputs": [
        {
          "output_type": "stream",
          "name": "stdout",
          "text": [
            "[2010, 2011, 2012, 2013, 2014, 2015, 2016, 2017, 2018, 2019, 2020, 2021, 2022, 2023, 2024]\n"
          ]
        }
      ]
    },
    {
      "cell_type": "code",
      "source": [
        "sorted(df[\"Model\"].unique().tolist())"
      ],
      "metadata": {
        "colab": {
          "base_uri": "https://localhost:8080/"
        },
        "id": "lGCG9BeOO6ka",
        "outputId": "1a7eb3ac-ab76-43ea-b616-69901e225ca5"
      },
      "execution_count": null,
      "outputs": [
        {
          "output_type": "execute_result",
          "data": {
            "text/plain": [
              "['3 Series',\n",
              " '5 Series',\n",
              " '7 Series',\n",
              " 'M3',\n",
              " 'M5',\n",
              " 'X1',\n",
              " 'X3',\n",
              " 'X5',\n",
              " 'X6',\n",
              " 'i3',\n",
              " 'i8']"
            ]
          },
          "metadata": {},
          "execution_count": 41
        }
      ]
    },
    {
      "cell_type": "markdown",
      "source": [
        "using numpy"
      ],
      "metadata": {
        "id": "UnWdLHo0Rv1R"
      }
    },
    {
      "cell_type": "code",
      "source": [
        "df_sorted_years = np.sort(df[\"Year\"].unique())\n",
        "print(df_sorted_years)"
      ],
      "metadata": {
        "colab": {
          "base_uri": "https://localhost:8080/"
        },
        "id": "TcQfef0MQsLj",
        "outputId": "f6229cc2-7db3-470e-87d5-2dda7d35d72f"
      },
      "execution_count": null,
      "outputs": [
        {
          "output_type": "stream",
          "name": "stdout",
          "text": [
            "[2010 2011 2012 2013 2014 2015 2016 2017 2018 2019 2020 2021 2022 2023\n",
            " 2024]\n"
          ]
        }
      ]
    },
    {
      "cell_type": "markdown",
      "source": [
        "using pandas"
      ],
      "metadata": {
        "id": "GTzYXTrdRyIq"
      }
    },
    {
      "cell_type": "code",
      "source": [
        "df_sorted = df['Year'].dropna().sort_values().unique()\n",
        "print(df_sorted)"
      ],
      "metadata": {
        "colab": {
          "base_uri": "https://localhost:8080/"
        },
        "id": "V7DjpQPyRz5J",
        "outputId": "540f1022-a87a-4a6d-9123-63330095b1f1"
      },
      "execution_count": null,
      "outputs": [
        {
          "output_type": "stream",
          "name": "stdout",
          "text": [
            "15\n"
          ]
        }
      ]
    },
    {
      "cell_type": "markdown",
      "source": [
        "count how many unique years are there"
      ],
      "metadata": {
        "id": "0UfelYNrTknU"
      }
    },
    {
      "cell_type": "code",
      "source": [
        "df_sorted = df['Year'].dropna().sort_values().nunique()\n",
        "print(df_sorted)"
      ],
      "metadata": {
        "colab": {
          "base_uri": "https://localhost:8080/"
        },
        "id": "SkRepWLaTn3i",
        "outputId": "efe19529-0762-4604-88ed-51cfb43518ad"
      },
      "execution_count": null,
      "outputs": [
        {
          "output_type": "stream",
          "name": "stdout",
          "text": [
            "15\n"
          ]
        }
      ]
    },
    {
      "cell_type": "markdown",
      "source": [
        "So we have the data of 15 years"
      ],
      "metadata": {
        "id": "LQnAWcM4TrxD"
      }
    },
    {
      "cell_type": "markdown",
      "source": [
        "# 🔆✔Exploring data"
      ],
      "metadata": {
        "id": "bj-1Wg4WUPny"
      }
    },
    {
      "cell_type": "code",
      "source": [
        "df[\"Price_USD\"].max()"
      ],
      "metadata": {
        "colab": {
          "base_uri": "https://localhost:8080/"
        },
        "id": "fgXZGxa6TyGk",
        "outputId": "cc5c257d-fe52-4883-d8b9-0d84d3d5e60d"
      },
      "execution_count": null,
      "outputs": [
        {
          "output_type": "execute_result",
          "data": {
            "text/plain": [
              "119998"
            ]
          },
          "metadata": {},
          "execution_count": 50
        }
      ]
    },
    {
      "cell_type": "code",
      "source": [
        "df[\"Price_USD\"].min()"
      ],
      "metadata": {
        "colab": {
          "base_uri": "https://localhost:8080/"
        },
        "id": "vvU3q4RSUN-Z",
        "outputId": "34b9b152-7634-4598-d533-ed5ce430859b"
      },
      "execution_count": null,
      "outputs": [
        {
          "output_type": "execute_result",
          "data": {
            "text/plain": [
              "30000"
            ]
          },
          "metadata": {},
          "execution_count": 51
        }
      ]
    },
    {
      "cell_type": "markdown",
      "source": [
        "so the maximumand minimum  values are 120k and 30k"
      ],
      "metadata": {
        "id": "WMLkRlvvUWHw"
      }
    },
    {
      "cell_type": "markdown",
      "source": [
        "# ✅✅✅Data cheking and cleaning is done there have been no duplicates and null value data is clean and ready for generating insights"
      ],
      "metadata": {
        "id": "ab0VGWp9Ujfo"
      }
    },
    {
      "cell_type": "code",
      "source": [
        "df[\"Year\"].value_counts()"
      ],
      "metadata": {
        "colab": {
          "base_uri": "https://localhost:8080/",
          "height": 586
        },
        "id": "BzpWHh3RUtE_",
        "outputId": "e4e6ca88-562c-4e96-8f5f-b6d6c4c386ab"
      },
      "execution_count": null,
      "outputs": [
        {
          "output_type": "execute_result",
          "data": {
            "text/plain": [
              "Year\n",
              "2022    3478\n",
              "2024    3427\n",
              "2019    3392\n",
              "2021    3372\n",
              "2016    3365\n",
              "2015    3358\n",
              "2014    3350\n",
              "2012    3332\n",
              "2010    3330\n",
              "2013    3326\n",
              "2017    3290\n",
              "2018    3278\n",
              "2011    3278\n",
              "2023    3219\n",
              "2020    3205\n",
              "Name: count, dtype: int64"
            ],
            "text/html": [
              "<div>\n",
              "<style scoped>\n",
              "    .dataframe tbody tr th:only-of-type {\n",
              "        vertical-align: middle;\n",
              "    }\n",
              "\n",
              "    .dataframe tbody tr th {\n",
              "        vertical-align: top;\n",
              "    }\n",
              "\n",
              "    .dataframe thead th {\n",
              "        text-align: right;\n",
              "    }\n",
              "</style>\n",
              "<table border=\"1\" class=\"dataframe\">\n",
              "  <thead>\n",
              "    <tr style=\"text-align: right;\">\n",
              "      <th></th>\n",
              "      <th>count</th>\n",
              "    </tr>\n",
              "    <tr>\n",
              "      <th>Year</th>\n",
              "      <th></th>\n",
              "    </tr>\n",
              "  </thead>\n",
              "  <tbody>\n",
              "    <tr>\n",
              "      <th>2022</th>\n",
              "      <td>3478</td>\n",
              "    </tr>\n",
              "    <tr>\n",
              "      <th>2024</th>\n",
              "      <td>3427</td>\n",
              "    </tr>\n",
              "    <tr>\n",
              "      <th>2019</th>\n",
              "      <td>3392</td>\n",
              "    </tr>\n",
              "    <tr>\n",
              "      <th>2021</th>\n",
              "      <td>3372</td>\n",
              "    </tr>\n",
              "    <tr>\n",
              "      <th>2016</th>\n",
              "      <td>3365</td>\n",
              "    </tr>\n",
              "    <tr>\n",
              "      <th>2015</th>\n",
              "      <td>3358</td>\n",
              "    </tr>\n",
              "    <tr>\n",
              "      <th>2014</th>\n",
              "      <td>3350</td>\n",
              "    </tr>\n",
              "    <tr>\n",
              "      <th>2012</th>\n",
              "      <td>3332</td>\n",
              "    </tr>\n",
              "    <tr>\n",
              "      <th>2010</th>\n",
              "      <td>3330</td>\n",
              "    </tr>\n",
              "    <tr>\n",
              "      <th>2013</th>\n",
              "      <td>3326</td>\n",
              "    </tr>\n",
              "    <tr>\n",
              "      <th>2017</th>\n",
              "      <td>3290</td>\n",
              "    </tr>\n",
              "    <tr>\n",
              "      <th>2018</th>\n",
              "      <td>3278</td>\n",
              "    </tr>\n",
              "    <tr>\n",
              "      <th>2011</th>\n",
              "      <td>3278</td>\n",
              "    </tr>\n",
              "    <tr>\n",
              "      <th>2023</th>\n",
              "      <td>3219</td>\n",
              "    </tr>\n",
              "    <tr>\n",
              "      <th>2020</th>\n",
              "      <td>3205</td>\n",
              "    </tr>\n",
              "  </tbody>\n",
              "</table>\n",
              "</div><br><label><b>dtype:</b> int64</label>"
            ]
          },
          "metadata": {},
          "execution_count": 55
        }
      ]
    },
    {
      "cell_type": "markdown",
      "source": [
        "# ✅STEP 2"
      ],
      "metadata": {
        "id": "u_N-0VUn6vqe"
      }
    },
    {
      "cell_type": "markdown",
      "source": [
        "## 🔆 INSIGHTS GENERATION"
      ],
      "metadata": {
        "id": "z1bIkH7QWZPP"
      }
    },
    {
      "cell_type": "markdown",
      "source": [
        "### 1️⃣ Basic Statistical Insights"
      ],
      "metadata": {
        "id": "J1JkbbDHxWs-"
      }
    },
    {
      "cell_type": "code",
      "source": [
        "print(\"Average Price\", df[\"Price_USD\"].mean())\n",
        "print(\"Minimum Price\", df[\"Price_USD\"].min())\n",
        "print(\"Maximum Price\", df[\"Price_USD\"].max())"
      ],
      "metadata": {
        "colab": {
          "base_uri": "https://localhost:8080/"
        },
        "id": "ocs2KBPFVzUu",
        "outputId": "b550ecf0-ee14-46ba-e5df-3efd110eb673"
      },
      "execution_count": null,
      "outputs": [
        {
          "output_type": "stream",
          "name": "stdout",
          "text": [
            "Average Price 75034.6009\n",
            "Minimum Price 30000\n",
            "Maximum Price 119998\n"
          ]
        }
      ]
    },
    {
      "cell_type": "markdown",
      "source": [
        "### 🚗🚗🚗 # Top 5 most common car models"
      ],
      "metadata": {
        "id": "2Y6SDy7Hw4HO"
      }
    },
    {
      "cell_type": "code",
      "source": [
        "df[\"Model\"].value_counts().head(5)"
      ],
      "metadata": {
        "colab": {
          "base_uri": "https://localhost:8080/",
          "height": 272
        },
        "id": "dnXK-N_DwiS-",
        "outputId": "eee9b05d-01bd-4477-8661-3694ef126135"
      },
      "execution_count": null,
      "outputs": [
        {
          "output_type": "execute_result",
          "data": {
            "text/plain": [
              "Model\n",
              "7 Series    4666\n",
              "i3          4618\n",
              "i8          4606\n",
              "3 Series    4595\n",
              "5 Series    4592\n",
              "Name: count, dtype: int64"
            ],
            "text/html": [
              "<div>\n",
              "<style scoped>\n",
              "    .dataframe tbody tr th:only-of-type {\n",
              "        vertical-align: middle;\n",
              "    }\n",
              "\n",
              "    .dataframe tbody tr th {\n",
              "        vertical-align: top;\n",
              "    }\n",
              "\n",
              "    .dataframe thead th {\n",
              "        text-align: right;\n",
              "    }\n",
              "</style>\n",
              "<table border=\"1\" class=\"dataframe\">\n",
              "  <thead>\n",
              "    <tr style=\"text-align: right;\">\n",
              "      <th></th>\n",
              "      <th>count</th>\n",
              "    </tr>\n",
              "    <tr>\n",
              "      <th>Model</th>\n",
              "      <th></th>\n",
              "    </tr>\n",
              "  </thead>\n",
              "  <tbody>\n",
              "    <tr>\n",
              "      <th>7 Series</th>\n",
              "      <td>4666</td>\n",
              "    </tr>\n",
              "    <tr>\n",
              "      <th>i3</th>\n",
              "      <td>4618</td>\n",
              "    </tr>\n",
              "    <tr>\n",
              "      <th>i8</th>\n",
              "      <td>4606</td>\n",
              "    </tr>\n",
              "    <tr>\n",
              "      <th>3 Series</th>\n",
              "      <td>4595</td>\n",
              "    </tr>\n",
              "    <tr>\n",
              "      <th>5 Series</th>\n",
              "      <td>4592</td>\n",
              "    </tr>\n",
              "  </tbody>\n",
              "</table>\n",
              "</div><br><label><b>dtype:</b> int64</label>"
            ]
          },
          "metadata": {},
          "execution_count": 27
        }
      ]
    },
    {
      "cell_type": "markdown",
      "source": [
        "#![7-series-exterior-right-front-three-quarter-3.avif](data:image/avif;base64,AAAAHGZ0eXBhdmlmAAAAAGF2aWZtaWYxbWlhZgAAARdtZXRhAAAAAAAAACFoZGxyAAAAAAAAAABwaWN0AAAAAAAAAAAAAAAAAAAAAA5waXRtAAAAAAABAAAANGlsb2MAAAAAREAAAgABAAAAAAE7AAEAAAAAAAAiaQACAAAAACOkAAEAAAAAAAAAvgAAADhpaW5mAAAAAAACAAAAFWluZmUCAAAAAAEAAGF2MDEAAAAAFWluZmUCAAABAAIAAEV4aWYAAAAAVmlwcnAAAAA4aXBjbwAAAAxhdjFDgQEMAAAAABRpc3BlAAAAAAAAApgAAAF2AAAAEHBpeGkAAAAAAwgICAAAABZpcG1hAAAAAAAAAAEAAQOBAgMAAAAaaXJlZgAAAAAAAAAOY2RzYwACAAEAAQAAIy9tZGF0EgAKChhmKXurBAQ0GhAy2EQRYAFFFFFAtF683oXPEq9iyzdtLrTlKmg0Dkjfi/HD1Tt0yk9Yi0XytSBE8OrcEAKJ/lCgbD6ic/CSWV+8QGuEicKj3bNWs/m/aaws5Ftyse0Vk0HN4T8385YH+t14/u2d/H6j5o0GET6lzDxubXQtn1kyl8Aw5/9yAGkc9iMQsH//qEYFE1xIOqulzXnJaD64N59rX7XTloM9z50KF1NadUuF5l6Ah+6MWFUDNdADuIcaZ88QxYqMNmzzbLOedotGkdWyWJysFM2rrxVFOmf8EcNbisl6jpLk/TxD6b685bhyQ6Gj5PxcHW9sOB5EYxYc8WXGvjFhtezq9psejpRk8Jaa+iJXIY3D5pX1IjU0/A2lmLg/QIUG6Ky/nyc2P19aYe6/1Pi2A0QNEdJJgAv4jJ02yFuSQzjTQLF0lTyrnjWROKYZ6rRr47GPNyAAuuf0/Vist60QLAUewoZgH7SmqF/GXS7m+C80FPKhzxUlrdaZlgXm1URDYfYyKjJVnzxFOqxnzreUfuo9E+hzdtXbQbegW7pWThD83Phg9VmUw81F0Pa+P5wAmbY2g8Ma9qaRJfSwPZuadMdMuiWtoYvebkGIb5f+7aHArCp/BS9ff3TLzQJNV4kk/Zfmtwh72AkLfbJsBN2qEyQPSTrde7N9c4VGENXXTXRdTQSbnN93O0/ZNB7wIMmf2cJmtUK9QW0cJ/D6QYwV4AcUo/y0hp78HryqTDfSEOvk13+gqBEWi6ddxX00L9WHLbx5FZWSE7h59wIK28w+9e2NVPlP+wc02ps75Ea/VnBFAAuMnHwz7so5rpGM4ZCKITrzKb7jQcuwBgokwQuBRWvor2SmaB5BHu2VlB2TR/ZtZlQeRQl7VCsq/dTSNNOzHVW2isRdaVMyc1xaaCvjUZYCL4jizq9ny3nR7MRK1dcWXnB27t53AzEErCP/z76OuSHg+VMHMjflBII6ip3E09oXzpuMPCSore+Nmdbc4jNp1Egy2ULupbjjNejZnL1DfwJCgRVZLkKw3q410eeaOkCbmF5xT/6XhhZyD7s+YRZriLTuNLJdki6k8bDQ4S6wcbkKx7hdvNZegpEMXncwvVdH7UmlT3dkVoQEnEZU/YLwB8Y4c7hKRCSR0tjE3P4CYg3W11IZqnZwWe1fhedGfP6paku2aLKh92q9aq5IK+M6a2NXvxzNIrIHbZ0oah7FxJgZknwIQt8HyFR2G3z4ILqFNzBFCo9WbooCj474cBqali+EERhUvyAhM2WMjMYxEzi3UIb75WtjD+GqljShF6fW31nulaMJyZ8tiDEy/yGeIfY/bKfz7wjMok3jzNGELerWVlbve8MSZGtxTd6+9oVKndCYaEUyhaqqfZ9l7DusUR6x+SaHuzuYHSpxV/CboaG2/6Wv12qK8fuMPR0g5UZeNRS8fKwulGVp6lpOLLfg1joJXd3g8Jt12JKkEBfLQGkywMnoYB0TMmZ+DGFq6Xw/EuRx0dZtbxNC1NkMt8NxKwKLQmBmVmMIL1xgECqTODWFQXZDJusuyLXBRn1aPrjzytikgAy+VdJrWZhFFCsgoU8t2B79P23EK9kBbTy6fkeUwrgOD8S8dBSD2ULua42O1scLRcUqI+TqdCDvANfi2ZBxmIh73+nts4bY1fufkHttmEVYtBEOFO9bE7VXwdwA5zpWi5MIdIVmMg6i78TZaPKbBwsETLPKamgvS72cAgW7pA4Y8issyiqjZ0b7OXfo8dN367b2tawq3mbAOjY2QKAMNblzKOlc99BFZFSrrB3i7eVH/H+4aNm2aCcbtbvukpqR557KwZIeJ2z/6O1vCXkUy1Fz99n5WhDRwGIM4R0Somu3v5oMi3v9fbJxEN7Bgd8HDCO6A6GPM91hcB5gLaUL3EAJGxsKGhYB0HUdWQTlyuWbs2s3BAQxbkJ0pzrKmtX0wG2o1Xd/MENWNBa6nBgYMFQsZk/WOUG4zpruEBxSOnvU+CyP2eXW5JcY5OAriXCG3VhhIGnU2CvvJrCNqg0amGGX0SSn+NzWJA85v6E69V0w0OwAwYnbf/LgsknOHNOY625ZtBfmN25eIFuW4R244nQyYcsHHFSDmCnauQwpKpCndIAW4fBvHBMStLaDX40KDB4GYwuqlBw4sQR7zJnjRuoWRc9t4Jmylx5nUURVLmTCUn/YCpIFYIXqejeiyU89ILswZmh46EDQtcWYK0cJwSufOl01w9dV8Dot+esEqVZQaMVxhrP0uNT1O1XCK8NEF2m2lmpJIC3ORQjjzRhk5q0sXqhf6MEdTToQEs9N2KLs9/82Izfk2xF1WUSqAhhKauYc1UybJ7jpKS4RbdldXvBLK0I3rQqPgxka8GNK6zmIDVCVMuFMp14UjCFrJHieRKZ2l2JRtkQ00lq1XB1m/FTjGzIMEmDKVuKP8WQKpPH3GQlXQ+Z/Q5G0mq+6mY0MkA7JnWlS5LimMEEGtostufbH6zaNCZPN6Op7lR9wTdvMAFKcQfR0lyu9XVtnxam/MJRFIxNOmWJQrYfnMTdwVquOeoB2KCPSOjfSjuzUQ+CBkLKzCt/FAz9lzQggRqUP7ePYq8We+vqCaQ15Lfrfov8Kq+gMHKItQdxxJcqWn35BBDNaYGNz3TUHfjUYeETy5DubUJSSX7HO811WXsLU/l5eIF9veXEc5fJMl+1limHJw+feOMihERAvPhZDGIgpOrqk3ISe6nhn2oLnOT2iIs2DgYwca0zM/t4NM83bayOpQ9YJ4P21zx7valghaaoxgF+Zpnh0NJRL85MmC//gL1jVBm1wSUx+ijlpp9hKa6g56ex3t84y9jgXcCWUqiv114E6g8Gg3qUcX0An/YYbOv9qj4FXdxJZm4GU6tmxmTmFz1/ZkOdTVVNAMBYArKzhQ2RBQqW7SX8JvMDMnI/gtxOHLc7CbFuVgsXcuZyJpm+R+qaxjK7mUl4y9/7b8a+nJcNKX9BdtpKjLsMQ/kzAPer0g3yle5fA2ojYVFQu0WH/i3lw6UX4pSurOqZD4DFOPijPKVssvlwW4FTXfS1PZVpjBthPwUEAGU6+tlJCIEW5i2lfu/bLc/bxZ+b4v83OxnrugFwh8zGD8yz4mWaH+4wWuzKQyMXxf/5gcqKojNIKhhn/PjJQaMB3H6MfXrWIvJvLB7EHGNacJCHD0ThQw4HHDUOfy+slQZRi7v1Nhmb2F6SZoGsWeIE6tU8kuVB+WT0nEpDnKEnABcSb1D6yM7beI12LrrATHvSXwm1RokbWEL04JByoRBrwUICzZbfzEhiFxl2Oy8veU1GLlnruVI6J9VZAwZEiNnm1k2JweSiCw6L4RhqMnWo6N7MhyP+h1lo9AxAgj3ioumdJKRdotyKl1H77p3gUeK3z0hqY0Sm1ugtDTuWEbpx4PNcyFl55k3r97crxWTWgAfcaFy3Odk3Wm01M7PqZicodCQVvtNfbPraqqj4edRNlfcS+cY3ScTL/jr6NzWj4rinfmBOcrMuJkjA2ve7Yu86WVe7mcbkq/8eo0gwPBX1lyP9tsAdMt8kIA5DxavU5rQpihxdUO63zXE9HAcBGwupSDypCwRrHyEifsqU3inzzX0UuUpwn0nUzGOxdgBh9kzeDECGCH4PsEkh6BWWD5NB0eRnZlHm1oNmvALhfz9X0+A0TkbPdGWjke7XfN8FCHQmYBVhY328Z9UMnCv3oqNI7CB7zKYwmNPafjelxQSd0U/ljisIXCfBUF/dPLbggTsmA8HT+0ojWD8OVl49jr+dpz2DrKhtLycAuvRLRDPx5NTXFkr3xA4o8HpcPbvyFlTzy002h5CyKYCmp1LHNnAsUApsAiNtuJIW7gg0QxER4TH3UPnFDtvsB37NNejXAGoi7lrzdl+BHAR8tUhxicbpFTXt5TJfO7iVVWGa5imjLhwMsYceRXrjFfPCLekfdVeGgOJJYOcdAbGHWl9v8tLEi9M15xVnEDt0850f4CzZbRymsIMGPcUT/Ffru7PXGIFOEAUv67MDBGVh0iQXZGF4Gf2nxPR0/EoXCrdE7V3OlJu0W+80dyO74JaDKAYOJkvhbqYxWfRFpmJgEdkFmu2qzw7XUhnrPnHAdCl9WW2oXBfQsCLBMvZMJiX0GI7NDU2La8YXdrJfKarY1iBKB5xnbESwbYh6l/x7aeXCxhWIgivETbiWpmvTI4zIGHjIcR6sar8srvVFIGi9EbPC7r8mSRji9qdtCom0fvkvQTi0UfqC7XVSrrkZG9rir3NvoQKvGYC4hlLxhTFDFXpDlhLZqGdL8Mh8g0nbjJ5sNV0xsf0tqAZ3Oi8izG7md6aR+LaLRZDHPWYrFDVSpLOzqqVciEAoQj0BTBnyYY4+AImt28wcMcmmlhdZ8caNSy4fxyC/QrLmnf56+B6WFWgFkgmJoRpN91X8GGjyuSxlAu2DGszkwxkAVesxiSFPwNOucesqlBU+oMTX27eWaF7Ofaevkj/WUPJxN0MjbuOGy4dM83KXV4TR/srrOi5J/zYxC0K0tFdtt8FehOSz/l1vWJoTHT6NryReERqm+8hEy7vcfg//0NupaDPnT3687E0IZs/BtY7tBAuZyplNpuNKwe8+DWyZbPXdEa5eg+0w9tBpqfBcFwl1/3lh+vGI2PnivX+hcOXrAkG6sTR9tZTlZUvOUaWgHfxWXCVR8gU1Tp2sKCAoZa6A2uEOOOCJqMi8XxBQXbyeAkXq6KszPfH0Lh6r0K6asDL/coEQqQIabMqisa5HSD2F4LpXqoHeF2gflglCGm7h8Z+Gu8eXcS2Tf7ce+lkrNxjj98tVJ0VDwhKRj4MlKWDdBWju+C5uCJV4v7SVW108oR75mtgl+mNx8eiKl3oPZzSZ0rMb8yCi63ntZqoJpsEWfQ/rMr7NQXutM55lLcnKtYWJLBa/cIQMMNrUWcFMu1d35F5fsZWPku8HdcgqEDb89hy0VEYZgQMBItrmohSJAYGPABb6OyRz153BhRZh2wZz3qAxE5ylfxts0ZnpJeVnm3Rap75nAkvqeFJRIwYQBpjB3c2armJ7ZKZJv7lZ4BPPYylsYAJOvcmxf3Ef8S3uiGdboFVgFPtgu2T7mSdAQQ5mwPV9dlasloJgNHZwSveDkx5i6W6njrFH0n84lkttBeno0qE3gJcRWTLAqvfA5anWKsGcxLZKphAamB/rXEdro6L6EQ1msqCcf6T6zE3YM3gGH0PAoA4/NKGSxxOIZSimTTVuNutSIZGHaKH7SlnA/LtHE8ve3r6FvhbrmLWtG63+oA4F3ud+TOS4KrEjnuCAn2siCDz0lKL79Bhw7hr6v29Gcvfuy5wMQ7wN3WmDM8mOkoRgjd1lER5EKyO5Nz00qwv24RuIzaRmFPO5uL/3uvkpAArH5j7WwBIGRg7r72LmvwcE7PD6+QtvDKpemirmmNOk3j1lIV858VYFNzRn9AvJ/UMv59DuycGoM1jmpBMha0fmeDZ8bbTcaquV0lIOLyb5G49bW+pprzPIB3WVVFqyWFopGtbc18j+xbqQsF0nqEeZLPoF4cEpcvb2kIg6Mv5RJhaxp1wPxJMsGeSSSfiVSwZ5OohVt7YKyIvH74LlteLRNEPnaJosMJQTqbAn0W5GugBIgR+zpizExUN9ZozSXGq4AWkyN64i/dv/+I0aQ8sHOLxsPKwatRZQxIzgbsQWPIHPxEoW2gsjr2CrLhcT1VEi5xr5nbk1aqBGM186GAGynuJ4ftY7U2knCnNxzPsrC3MYY0r54SENZ/gfwdIPF8xn2nWABkPzSedXqR8HMf9/3TreBDQUPdiVDXn2zlqBJ2FoL1SkK4GEeDUnZpw09Rv+zjsU2Qb8Tpw2k2wn1GkB+lx9aw5CCYbfkvOU/BdppY+eJ+wkVAGi4qkdM+YXby4xvTuZdSD+uG/a03TaQucdy+Z3Zmi6Ff3bDGtOIjk2XXvWBwbdN8rma8WRfXG6IGQoH8Kdo+eyFP6IE63rYeIpqx+25UYxuO1z5vB6Yc8MkHcnGIMcXC6+BGUthE6KbiRqvnrt3PCNcSY2HDTVkiX8D11gepd2vSB+KLguGchH4MZhn7llBhOttCI6k3GWiMcwU2ircwLg/5lIeKekcmwE4xjCopNaxb9MuuwXUcihHlKdtxfgEmU0YUImnVCP3olX+m7quwgq1KOm4dUBd2CpkO7sVD2NtR/0E29Z6wdvTEWQJy5KvsOytnecgcIjJqIYzI0raF2lriZvF1RnLIiYiF8X5+9eACxAuM7+1R8rVpX4yB17toRhJ3q8+S7aF/76LkK4BDP0w3ZMJF84x3hAzhbftBXq2p9efFOUzRvTkkTT53EgpqvIfLgtIRtmNtmOnl44VxrfTw0MAqjMvJyW8OLLd0wmbDFjGsi2I4envxv8uFq7L/+4G8cJzXctumUqY9O5wkTn4zl1VDbQpGNq1I2wrfzqKiVE7Yc3B+gN8pQ9GCqbdYnvQNqMdHZ05D47T03+eHiFScLG8z/8EKI+faXbbox8nM63/sr4T0+mZvTCzTRwuldeNtaAgQrmHoB5Q3Zc0PV4WJgFmueFP4N0PxSFCrLPXVuyXsr467bcXdSyLh0Sgvg9HLK/Byv2ADVmeAJVMqSCrvkutEMFr8hBI8Piwlox97B7J7+NVe8WT1wCBUvxjFxNgqSoYRK1Onn0Ibi6Uz4BPMSqDCBGW2ZzGkK9QxoUn5WpJnV3HMqVRNwArWnXdnjxlvjfVahfDAfpU8JoVqiqauSavzJ+Mv8p1ZrATomt2aMl6wddtikEyrZMcTtw8zsZwiE/MNqTuMiTsgfEH2KcGA2FOpTsPiIQPs5VYIPS1jPRIf5D9DVkj55iCvcm+R8nJgFPPbpEIFrYKY+i7T8nv/NLwnENTPolDbWDb5X0S7aCy9HDjHfvBcryME524XoAY/sqEbtz+WYCPqc9PPtqKh/ftXBryBZIsp2yirD5I2zayRWcGhWeKsYEFF+cBDzTcU5tQyO1Ey2XWSdePpmNeCtG4w37SWXG98o8g8oJfmwuzEX2U03N8thj71cdW26V6ndcnacszZAaG/iuLOZ+Mlk+vxRrvOgpUHaJtJxdS2K5KCbt2bsO/08tqFnHs0z3Zwbib3e7ixHQIsA56FXF5d7b+8tHtuxzt0ZEQZnLZvw0ONSAVBhkNVHBACrVALq8lVttX4P/Qo7gi4We/8TAeX4wUbZUfP979LPdVFXhBf+Jls9uyLCE+gVAD4oNmSt4DhPre5XeB68fuvhz4c2BeQFFgWAYT+0ZB8BwmVmNkwC52HPPWfl1blF0Ex9ETVjNC7wiu3VuZw/r14w2Ypb+Ql46c8rM5O5qq5j8iIe1pVBw1tjcZxnVJC9kT7axQ1kZbNa9Knx8L5EJj8w0o3tzjnWi6YTpIPRjZgtx+T/Mft/tZobN5iHMnMbZ6L+M2qqYcCkPXPwoJos9NZN6Fj6FDyXoYMKSwRjfNYfxXZ99KH1gvF1Leo0RDARNuNc3UVANm+XSk/nX8rMzWDKICxcXXSWCdOVJFrFVcc6UO1+ev8qB2LsgUnHdTzF1jCsiY//3dq27Pa3QHC4LyogKPFR7mo51zeHlaYFh824YHffCrJ/wi8A+r6Tq7ZqarIk/b/YnZOZ8qy5oKm34Xrsvlw7SfVTLZMYCo1SrtJgaQWixiLw47ES5275eIfXUz3RVFrIyqoFaTYvTyTEteVfZJZbMGfcC0pnFsSVfzCXVMbmbBEgjcUJ7v9g3J+Vx8AFwuVUKcjjkeqzz1clfYtP8iau57rzboNuuHenA0JWB7GQ46JsyaH5TQ0sI6uF64xjkIOzVEQPkFe6dDqwNZHTSmDXLD0zSPQWM/oI6/VISErpEV7WyX106F9YNth9NWMoNfglAsVM2nGM//67lxzrcF2VhdLWidOWJjCa+clCBubcHV+PiWu+Xxw6AqTki9YpS9GHnoZB8ZQKCgnJWLloYok/q0WxjVoLaCteGJwzxy+BMUjNVnetQtx28UFcBD+gCg1bdhDky8Y5Zlx/uJWz4IYUWWbfRc31Ww2Ow0Kgj/eh3Yh9AvtLWzljLhbYxNGJDPDHc/52TOFDaDk6HLjiScLFWEuu5jIyG45oI7XsofTPNypcXrtL+D+uURoCPeen2WCNsyffUjZuvhxkeCcIGlzwJ7C3fX3MHvwqLfClGSqJBSW3ulYJhWT7UydLoynOMLnU3FUk5oa2gxn+3GsDQrOG859+773cjr/fLQFwjmciUtMfAf5dgjU9kupH6LVQWt5wFa7/nyay9JQsyajrwpt//rpSWD1sbXCjaJ5VyWB7maENa8ijwnBXqwZKE2J1Ns/qNZ+zSpAp/1oeKPn5mDqJB7H1COsU8S2P3BFD7jJhAFQJLucqBNnHDbQ+19llXSsbHvDTEHtiSpeN1smlpcLQUn1DlD/0/zlfOQeVnmm4jBHitjl8PoawRYOqbQ6FPwoB6O9B33F4WBvxaOsbgbCpKczdndTZWY3mEGukSqbfTeGU2TvvnNxtBDGQdsGx5v0yzxecoH+I/6QDRBoFsrIzNXtqfBGZHvhpV2JcJ9S0BtndZF3tKYnDFssdrXLwrZUCpuWOePLZVJQqfdTqJCb2pI+RRP7ZxM9MkDnZXNV8xI8+2eAygdeowpJ1ycYDoUdLZfEHMw99mqKtx6/uOyHKzY+72E1h/K8AXVtS2IKtqKMVFYxT93fpkCYwwkZmL89G7ZTQLl2ZRpbWsy5tUOh7HXL/7H24tFy+j8j+K3nC5T/oEAXdKb+x8xE9SiuwWh2wk/K4qWfP8ZAi0Xlv3fRVdVH9Q8X0Vc7zko2y0vsvF/UvMmOXlw0ndmT/6IHWO4oC9FXKWHVUZAZgzPlpW24MuYkTVhKnOrWVcCyz8cw8xr3tB9YPkAlFkBcsiCcxUNB06Yh7dwpJWhyZ3v8FQYMCFwGWsZYihP/fgtwMEifIToPPjF5MvYuooFHZiNklroQpovt74KwbWaMut7InBtVm/uaOk2Chf/mFDUXBsa7ORseL4cJBkwwDP3vBmW3QXn/Gbp6EpiKmWENtLxzcbvLOmNPnY7CymyVDDbjbwVQrEEbx2XD24POjFTFlB7t7OWhN/W4g+5gF8VrH0Y37yn45SJRNpmscyhzJLoazap127Yr2FFmcgWSRqDtmfk3oS/18phYiG8CLSnCAg0BKSkAE+McoIPislmb1BWyVaG45JH9BwdlB5Eug/dYeJCxdVZzDWHTe0+uAd2NW6TvE3wLpUIQtgSX1h3jddN90jJLneJOJ3eag9WtecKoh6Q0ERQ/3DvvUjqOu6sxaFYhHDIQCpI5aksCudvWynBLYLIZH6fsNH11hECUT7u/bq3XY9MhvTajywUcO+Fw80E/U13Ijxczk0aYmgbsVVdfhqv8KXUTVUon2+1Mr/5Zu3FGrXOOf7oRfiM1qBhAxT0Nn2azh/mv6DRhD4EWkRkOfRwmhWGGJawRjybTXOiNj/KMsGhJQWrVQXKceQlu6v7MLCEYrYLRM3JsO13oqX5MxFB8VzHT8PDLlzDQscwQXBJsn/ohdY7isVe4YDmQnap8JfJo55V5QxLNvX/glAudOljYxkzwAq/1YBJkZOk+fyojI7U4jDwvCLRQ6ArG39AXioeSqOtsYNoD5SV+nwWVFFwR7CKv6iGT9mOLUbJM7BbQ9uOg0GlGuOtWoH193feP0t2agojtjEUTPjb8ewpXHRnDjv6+Odo9woUBht628oEQMYRn9/Eaq8BFsnH+iwZ23h+zz6ct9UwKke+PaNPw6jtZpnqqxA8zjPT6q5knjjB1HalMNdkE65jj0q73X+Qo3+0yNBAiNY6D5yACfDHjJAmSQBjaon2Dw7kVYvyffWRx/tC1y9alMlBjlsHtkDgURJwcxVtdCBBZWKpQxLwKtTbnkcIPzzQx59OvtAXBDQiIGmp3Rwczlk1lCJyCKJrpuA7ZebhwBFlImuAVgc97zLGFG/hlpX9LTbocwG6DyeDlMs/01FsgQEGH2HjSO8ACZUhsYegGY1hiSKyWa5ouUJZ8SylSkAzcPEN6I6UJuzjsPwmv1RPAP9zA53aZr3K84W/3PZZ6ovwM2YqichWdy9WHW7gGfjG746rNKsFCNXajb3AuT3EZmUDdY2DVX4EXoHtVy8RZLihGTP68pu+UHXYbNpaZcvHZOe6G1qlrTi0GoNm8VEnddAIttAlyPWBux2MYQ8tQDNBTewC2dwSUbyiRKuEnSEaU7QR2yQBSSC9t5mNQ6dkQRq5pw07iZVNiPC3f/br7/rcAYOP0bAJHKu+LCMF37sf+0ZINcuyX/V+U5YP6PZSfUa0orqrf6HRBXRI7t/KoGdTx3+GtRo7TlI0ir2UBPSI4ZK7p0JekCxWR39m4MXgwLIX0lrMcf1KhDvZ6hW5xnM68nG3zWmvJj5gQX9FhmrgqZxgLv9sEizyzrh6WkuY58a9lkc0ISnwIOidIhgsERSd4qglAvO1QShiwI0v9qviMqcq8+kdZntuZX0v+sZmX0JPpcahqqnhLPzdulOMBInyaGOQ9sztAbyDtCZi8DWkwJ+zg6h9k51eVdXXt6+QHoCYJlZ29jjrKtQxWzTWRx4DWqdGCFQhAh/pR0iY18erYFv9RWg3KWVI6RUlUsqcuBr4W97QXOwkrHNBySh0SR78FVaVpzg4R4hfJ4OrIHC/YvbCWK+k7A5j7JHWSjKwTVacY92r/pvcF+es8jKLFl3V2b/IRmHVBbZvTC7HinSGXjGzb94ntHiM8ErYmye2BI3wGfEiGDUl5SCp+Bl+MqotlywZTsoxaKWLbaKhP5I84mfSG5/6EXnjZqKAPOwzwII695gpN4419axMpXC6thO3afYYSoeGilHlqnVLQZXhgEeX+18s0ZXHa8WxaRcpP11fwFacMMfFQjE52OWbx+rfMC34/yBmAuUpSrHTz4PdZ53RGOCc+QdYexYtFqw4lmE7ntjHh4Us7h0I6vxVxchSZ3NjaexhPij6YzZfDOQO5oF4UldGE2L20nKPfenq+/U+arGGb4dRdnU2oyH3fuWCJYfm+v7LjXwqw72zO8NK9vOn+VSZd317gI4WiO2LV25HA+DLXUNzZe2gpfz3M6tqLkmP639qFaXmCfqhIFts+6FkGvMcjxjQYYzXyZOaCz3ZiPawehi4hNXxRG40pk5rtz3vV8SjTxHIYOyCZuZc1m7WmhIs9SDx/MSbK9tSw151Wmpik0Fr+mdS0M9D9C+NVo2m9g73/h7+WsrQCXudD7Cr7HziWXNqP5/jp4CZDLWFFf1gcVfTHu+/+6Uj+fAqc9PKa2aYrd0sYCL+uJ5Tg7jUddnuW5DMNUIOnkBe8vJDN3wkKKSPuJxJnI1v5buqIXrEEEYOxdackg6vPTG4TUTuAiRYAIlHbaqHD2QWtc0uSLM8IJY7ovp+Wu/NaHqCs0sgCyjIvbJdh+4LKOorjzPx7gyS2pPpc5tMGgSQzLUqiJptbuiW2hxfM8twSC6Q5nHZfIuZgxFzryldVPdAv1mXbujMu8gC8Y8S+T1eeJVZf43sf2mswQyPByr16B1t/QSHwHdV0mKJSQvdbp1BVh8JZ1GSgu+g04GNitEDeAYQyJxSlHNTwpZnMYYtluuoxDfSGxKdZVxJWL9Pm8MGoj3J5WebWGu8PpsXaM2WSLF05wybThEzwE/IAI4IH7XHdq/oSz0b8qFWE9H91lo4W8VPXFqJ/mRmAcqD03u9IHnYDKgFa3HqjDF5WQAAAAZFeGlmAABJSSoACAAAAAYAEgEDAAEAAAABAAAAGgEFAAEAAABWAAAAGwEFAAEAAABeAAAAKAEDAAEAAAACAAAAEwIDAAEAAAABAAAAaYcEAAEAAABmAAAAAAAAAEgAAAABAAAASAAAAAEAAAAGAACQBwAEAAAAMDIxMAGRBwAEAAAAAQIDAACgBwAEAAAAMDEwMAGgAwABAAAA//8AAAKgBAABAAAAmAIAAAOgBAABAAAAdgEAAAAAAAA=)\n",
        "##🔎 insight 7 series is most sold car all years compared"
      ],
      "metadata": {
        "id": "IYHT96-5xNIU"
      }
    },
    {
      "cell_type": "code",
      "source": [
        "import matplotlib.pyplot as plt\n",
        "df[\"Model\"].value_counts().head(5).plot(kind=\"bar\")\n",
        "plt.title(\"TOP Cars Sold all years\")\n",
        "plt.xlabel(\"Cars Model\")\n",
        "plt.ylabel(\"Number of Cars\")\n",
        "\n",
        "plt.show()"
      ],
      "metadata": {
        "colab": {
          "base_uri": "https://localhost:8080/",
          "height": 513
        },
        "id": "QQN6lcs-nYvr",
        "outputId": "70c8ee18-8397-4260-b6a5-7acf60159d9f"
      },
      "execution_count": null,
      "outputs": [
        {
          "output_type": "display_data",
          "data": {
            "text/plain": [
              "<Figure size 640x480 with 1 Axes>"
            ],
            "image/png": "[encoded data removed]"
          },
          "metadata": {}
        }
      ]
    },
    {
      "cell_type": "markdown",
      "source": [
        "### ✏️ As the data is of 15 years it is only suitable to derive the insights based on only top years recently so deriving insights based on recent top years"
      ],
      "metadata": {
        "id": "aWyg0Eg_Dwfn"
      }
    },
    {
      "cell_type": "markdown",
      "source": [
        "## 🎯Top Years"
      ],
      "metadata": {
        "id": "X_tce78GEIOl"
      }
    },
    {
      "cell_type": "code",
      "source": [
        "df['Year'].value_counts().head(3)"
      ],
      "metadata": {
        "colab": {
          "base_uri": "https://localhost:8080/",
          "height": 209
        },
        "id": "gfxosoAOFDdl",
        "outputId": "8ea7c08e-1d7f-4745-9d66-8e4d3e288d06"
      },
      "execution_count": null,
      "outputs": [
        {
          "output_type": "execute_result",
          "data": {
            "text/plain": [
              "Year\n",
              "2022    3478\n",
              "2024    3427\n",
              "2019    3392\n",
              "Name: count, dtype: int64"
            ],
            "text/html": [
              "<div>\n",
              "<style scoped>\n",
              "    .dataframe tbody tr th:only-of-type {\n",
              "        vertical-align: middle;\n",
              "    }\n",
              "\n",
              "    .dataframe tbody tr th {\n",
              "        vertical-align: top;\n",
              "    }\n",
              "\n",
              "    .dataframe thead th {\n",
              "        text-align: right;\n",
              "    }\n",
              "</style>\n",
              "<table border=\"1\" class=\"dataframe\">\n",
              "  <thead>\n",
              "    <tr style=\"text-align: right;\">\n",
              "      <th></th>\n",
              "      <th>count</th>\n",
              "    </tr>\n",
              "    <tr>\n",
              "      <th>Year</th>\n",
              "      <th></th>\n",
              "    </tr>\n",
              "  </thead>\n",
              "  <tbody>\n",
              "    <tr>\n",
              "      <th>2022</th>\n",
              "      <td>3478</td>\n",
              "    </tr>\n",
              "    <tr>\n",
              "      <th>2024</th>\n",
              "      <td>3427</td>\n",
              "    </tr>\n",
              "    <tr>\n",
              "      <th>2019</th>\n",
              "      <td>3392</td>\n",
              "    </tr>\n",
              "  </tbody>\n",
              "</table>\n",
              "</div><br><label><b>dtype:</b> int64</label>"
            ]
          },
          "metadata": {},
          "execution_count": 28
        }
      ]
    },
    {
      "cell_type": "markdown",
      "source": [
        "## ✏️2022, 2024 and 2019 are the years in which most of the sales happened\n",
        "## so we will consider these years for our analysis"
      ],
      "metadata": {
        "id": "gNcFGyvGFLM_"
      }
    },
    {
      "cell_type": "code",
      "source": [
        "top_years = ( df.groupby('Year')['Sales_Volume'].sum().nlargest(3).index)\n",
        "Top_years_df = df[df['Year'].isin(top_years)]\n",
        "print(Top_years_df)"
      ],
      "metadata": {
        "colab": {
          "base_uri": "https://localhost:8080/"
        },
        "id": "l0MOTj4kyCkB",
        "outputId": "238a4dbb-a88c-49dd-98e3-333a118a6530"
      },
      "execution_count": null,
      "outputs": [
        {
          "output_type": "stream",
          "name": "stdout",
          "text": [
            "          Model  Year         Region   Color Fuel_Type Transmission  \\\n",
            "2      5 Series  2022  North America    Blue    Petrol    Automatic   \n",
            "3            X3  2024    Middle East    Blue    Petrol    Automatic   \n",
            "6            i8  2022         Europe   White    Diesel       Manual   \n",
            "9            i8  2019         Europe   White  Electric       Manual   \n",
            "32           M5  2019           Asia     Red    Diesel       Manual   \n",
            "...         ...   ...            ...     ...       ...          ...   \n",
            "49980        i3  2022           Asia   White    Hybrid    Automatic   \n",
            "49982        M3  2024           Asia  Silver    Hybrid    Automatic   \n",
            "49983  3 Series  2019  South America  Silver    Hybrid    Automatic   \n",
            "49984  5 Series  2019  North America   White    Diesel       Manual   \n",
            "49991        X5  2019           Asia   White    Diesel    Automatic   \n",
            "\n",
            "       Engine_Size_L  Mileage_KM  Price_USD  Sales_Volume Sales_Classification  \n",
            "2                4.5       10991     113265          6994                  Low  \n",
            "3                1.7       27255      60971          4047                  Low  \n",
            "6                1.8      196741      55064          7949                 High  \n",
            "9                3.0       35700      96257          4411                  Low  \n",
            "32               2.1       97294      53277          4091                  Low  \n",
            "...              ...         ...        ...           ...                  ...  \n",
            "49980            5.0       38575     112981          6123                  Low  \n",
            "49982            1.7      198846      85034          7888                 High  \n",
            "49983            1.8      123127      63197          3146                  Low  \n",
            "49984            4.5       48562      31520          7108                 High  \n",
            "49991            3.3      162639      33217          1904                  Low  \n",
            "\n",
            "[10297 rows x 11 columns]\n"
          ]
        }
      ]
    },
    {
      "cell_type": "markdown",
      "source": [
        "## 🎯 Tops Models sold based on sales valume"
      ],
      "metadata": {
        "id": "WsqM24sEEfgr"
      }
    },
    {
      "cell_type": "code",
      "source": [
        "top_models_each_year = (Top_years_df.groupby(['Year', 'Model'])['Sales_Volume']\n",
        "                        .sum().reset_index()\n",
        "                        .sort_values(['Year', 'Sales_Volume'], ascending=[True, False]))\n",
        "\n",
        "\n",
        "top_models_each_year = top_models_each_year.groupby('Year').head(3)\n",
        "print(top_models_each_year)"
      ],
      "metadata": {
        "colab": {
          "base_uri": "https://localhost:8080/"
        },
        "id": "na_ed_ZV082o",
        "outputId": "276cc1fe-ff24-4895-9f05-67f60c9b9f09"
      },
      "execution_count": null,
      "outputs": [
        {
          "output_type": "stream",
          "name": "stdout",
          "text": [
            "    Year     Model  Sales_Volume\n",
            "5   2019        X1       1681721\n",
            "7   2019        X5       1670497\n",
            "4   2019        M5       1664560\n",
            "18  2022        X5       1796846\n",
            "13  2022  7 Series       1739216\n",
            "19  2022        X6       1701699\n",
            "30  2024        X6       1836396\n",
            "23  2024  5 Series       1711580\n",
            "24  2024  7 Series       1686209\n"
          ]
        }
      ]
    },
    {
      "cell_type": "markdown",
      "source": [
        "## 📈 PLOT"
      ],
      "metadata": {
        "id": "c7N2tH017Ja9"
      }
    },
    {
      "cell_type": "code",
      "source": [
        "import seaborn as sns\n",
        "import matplotlib.pyplot as plt\n",
        "\n",
        "plt.figure(figsize=(10,6))\n",
        "sns.barplot(data=top_models_each_year, x='Year', y='Sales_Volume', hue='Model')\n",
        "plt.title('Top Models sold in recent Top years')\n",
        "plt.show()"
      ],
      "metadata": {
        "colab": {
          "base_uri": "https://localhost:8080/",
          "height": 564
        },
        "id": "uVtlvNUn7K9O",
        "outputId": "5354368d-02c7-4c0b-f76a-5ad72afadbf5"
      },
      "execution_count": null,
      "outputs": [
        {
          "output_type": "display_data",
          "data": {
            "text/plain": [
              "<Figure size 1000x600 with 1 Axes>"
            ],
            "image/png": "[encoded data removed]"
          },
          "metadata": {}
        }
      ]
    },
    {
      "cell_type": "markdown",
      "source": [
        "## ✏️INSIGHT: as\n",
        "\n",
        "in 2019 X1, M5, X5\n",
        "\n",
        "in 2022 7 series, X5, X6 series\n",
        "\n",
        "in 2024 7 series, X6, 5 series\n",
        "\n",
        "### Xseries cars are popular throught all the years"
      ],
      "metadata": {
        "id": "WLfE6zxqEsNL"
      }
    },
    {
      "cell_type": "markdown",
      "source": [
        "### ✏️ Based on Fuel_Type by Sales Volume"
      ],
      "metadata": {
        "id": "wixcKIZKACrr"
      }
    },
    {
      "cell_type": "code",
      "source": [
        "top_models_each_year = (Top_years_df.groupby(['Year', 'Fuel_Type'])['Sales_Volume']\n",
        "                        .sum().reset_index()\n",
        "                        .sort_values(['Year', 'Sales_Volume'], ascending=[True, False]))\n",
        "\n",
        "\n",
        "top_models_each_year2 = top_models_each_year.groupby('Year').head(3)\n",
        "print(top_models_each_year2)"
      ],
      "metadata": {
        "colab": {
          "base_uri": "https://localhost:8080/"
        },
        "id": "8mI3zTLfAPm6",
        "outputId": "63349175-4e4d-4765-b13e-a29b13940d70"
      },
      "execution_count": null,
      "outputs": [
        {
          "output_type": "stream",
          "name": "stdout",
          "text": [
            "    Year Fuel_Type  Sales_Volume\n",
            "2   2019    Hybrid       4461759\n",
            "3   2019    Petrol       4446063\n",
            "1   2019  Electric       4184558\n",
            "6   2022    Hybrid       4687463\n",
            "4   2022    Diesel       4474126\n",
            "5   2022  Electric       4383912\n",
            "10  2024    Hybrid       4647195\n",
            "8   2024    Diesel       4356475\n",
            "9   2024  Electric       4290700\n"
          ]
        }
      ]
    },
    {
      "cell_type": "markdown",
      "source": [
        "### 🚒 Plot"
      ],
      "metadata": {
        "id": "q3rws_m8AyXT"
      }
    },
    {
      "cell_type": "code",
      "source": [
        "plt.figure(figsize=(10,6))\n",
        "sns.barplot(data=top_models_each_year2, x='Year', y='Sales_Volume', hue='Fuel_Type')\n",
        "plt.title('Top Transmission type sold in recent Top years')\n",
        "plt.show()"
      ],
      "metadata": {
        "colab": {
          "base_uri": "https://localhost:8080/",
          "height": 564
        },
        "id": "JPysmQ9kAx-7",
        "outputId": "42b70fe2-622b-4e68-cde4-64a7b95964ac"
      },
      "execution_count": null,
      "outputs": [
        {
          "output_type": "display_data",
          "data": {
            "text/plain": [
              "<Figure size 1000x600 with 1 Axes>"
            ],
            "image/png": "[encoded data removed]"
          },
          "metadata": {}
        }
      ]
    },
    {
      "cell_type": "markdown",
      "source": [
        "In recent years its seen that hybrid models are getting more popularirty"
      ],
      "metadata": {
        "id": "5BqtZL7HRBPk"
      }
    },
    {
      "cell_type": "markdown",
      "source": [
        "### 2️⃣ Yearly Trends"
      ],
      "metadata": {
        "id": "DC11LmW0xVom"
      }
    },
    {
      "cell_type": "markdown",
      "source": [
        "How many cars are sold per year?"
      ],
      "metadata": {
        "id": "5BzhwtnxxrHN"
      }
    },
    {
      "cell_type": "code",
      "source": [
        "Cars_Per_year = df[\"Year\"].value_counts()\n",
        "print(Cars_Per_year) # highest selling years"
      ],
      "metadata": {
        "colab": {
          "base_uri": "https://localhost:8080/"
        },
        "id": "MriSZVQvxGzM",
        "outputId": "1a68ea85-6aad-4ab9-e0ff-b553a68d9197"
      },
      "execution_count": null,
      "outputs": [
        {
          "output_type": "stream",
          "name": "stdout",
          "text": [
            "Year\n",
            "2022    3478\n",
            "2024    3427\n",
            "2019    3392\n",
            "2021    3372\n",
            "2016    3365\n",
            "2015    3358\n",
            "2014    3350\n",
            "2012    3332\n",
            "2010    3330\n",
            "2013    3326\n",
            "2017    3290\n",
            "2018    3278\n",
            "2011    3278\n",
            "2023    3219\n",
            "2020    3205\n",
            "Name: count, dtype: int64\n"
          ]
        }
      ]
    },
    {
      "cell_type": "markdown",
      "source": [
        "## 📌 Top most years"
      ],
      "metadata": {
        "id": "t0GgVPJ4COoG"
      }
    },
    {
      "cell_type": "code",
      "source": [
        "df_cars_top_year = df[\"Year\"].value_counts().sort_values(ascending=False).head(5)\n",
        "df_cars_top_year.columns = [\"Year\",  \"Salescount\" ]\n",
        "print(df_cars_top_year)"
      ],
      "metadata": {
        "colab": {
          "base_uri": "https://localhost:8080/"
        },
        "id": "A3Ig-B4jx-eK",
        "outputId": "6464ca3b-8abe-4921-8c8d-b559d041e516"
      },
      "execution_count": null,
      "outputs": [
        {
          "output_type": "stream",
          "name": "stdout",
          "text": [
            "Year\n",
            "2022    3478\n",
            "2024    3427\n",
            "2019    3392\n",
            "2021    3372\n",
            "2016    3365\n",
            "Name: count, dtype: int64\n"
          ]
        }
      ]
    },
    {
      "cell_type": "markdown",
      "source": [
        "### 📊📉 PLOT Yearly trend"
      ],
      "metadata": {
        "id": "nBl_ttZ8oLwu"
      }
    },
    {
      "cell_type": "code",
      "source": [
        "df[\"Year\"].value_counts().head(5).plot(kind=\"bar\")\n",
        "plt.title(\"Top Years in Sales\")\n",
        "plt.xlabel(\"Years\")\n",
        "plt.ylabel(\"Number of Cars\")\n",
        "\n",
        "\n",
        "plt.show()"
      ],
      "metadata": {
        "colab": {
          "base_uri": "https://localhost:8080/",
          "height": 493
        },
        "id": "Fz-gj7OAoWe_",
        "outputId": "e5d3b60a-3bad-4679-dd35-3454f95d6f83"
      },
      "execution_count": null,
      "outputs": [
        {
          "output_type": "display_data",
          "data": {
            "text/plain": [
              "<Figure size 640x480 with 1 Axes>"
            ],
            "image/png": "[encoded data removed]"
          },
          "metadata": {}
        }
      ]
    },
    {
      "cell_type": "markdown",
      "source": [
        "#✅2022 WAS THE YEAR IN WHICH NUMBERS OF CARS SOLD ARE HIGHER"
      ],
      "metadata": {
        "id": "eFXWqcS8P7vr"
      }
    },
    {
      "cell_type": "markdown",
      "source": [
        "### 3️⃣ Category-Wise Analysis\n",
        "\n",
        "###💲💲💲💱 Average price per fuel type:"
      ],
      "metadata": {
        "id": "QB1j9lMI_G1J"
      }
    },
    {
      "cell_type": "code",
      "source": [
        "df.groupby(\"Fuel_Type\")[\"Price_USD\"].mean()"
      ],
      "metadata": {
        "colab": {
          "base_uri": "https://localhost:8080/",
          "height": 241
        },
        "id": "yqzmOMj26HoB",
        "outputId": "a08581c8-8ea5-4d6b-d29a-a9eb86509235"
      },
      "execution_count": null,
      "outputs": [
        {
          "output_type": "execute_result",
          "data": {
            "text/plain": [
              "Fuel_Type\n",
              "Diesel      75079.809671\n",
              "Electric    75276.313207\n",
              "Hybrid      74797.551746\n",
              "Petrol      74990.419841\n",
              "Name: Price_USD, dtype: float64"
            ],
            "text/html": [
              "<div>\n",
              "<style scoped>\n",
              "    .dataframe tbody tr th:only-of-type {\n",
              "        vertical-align: middle;\n",
              "    }\n",
              "\n",
              "    .dataframe tbody tr th {\n",
              "        vertical-align: top;\n",
              "    }\n",
              "\n",
              "    .dataframe thead th {\n",
              "        text-align: right;\n",
              "    }\n",
              "</style>\n",
              "<table border=\"1\" class=\"dataframe\">\n",
              "  <thead>\n",
              "    <tr style=\"text-align: right;\">\n",
              "      <th></th>\n",
              "      <th>Price_USD</th>\n",
              "    </tr>\n",
              "    <tr>\n",
              "      <th>Fuel_Type</th>\n",
              "      <th></th>\n",
              "    </tr>\n",
              "  </thead>\n",
              "  <tbody>\n",
              "    <tr>\n",
              "      <th>Diesel</th>\n",
              "      <td>75079.809671</td>\n",
              "    </tr>\n",
              "    <tr>\n",
              "      <th>Electric</th>\n",
              "      <td>75276.313207</td>\n",
              "    </tr>\n",
              "    <tr>\n",
              "      <th>Hybrid</th>\n",
              "      <td>74797.551746</td>\n",
              "    </tr>\n",
              "    <tr>\n",
              "      <th>Petrol</th>\n",
              "      <td>74990.419841</td>\n",
              "    </tr>\n",
              "  </tbody>\n",
              "</table>\n",
              "</div><br><label><b>dtype:</b> float64</label>"
            ]
          },
          "metadata": {},
          "execution_count": 69
        }
      ]
    },
    {
      "cell_type": "markdown",
      "source": [
        "## 📉Plotting"
      ],
      "metadata": {
        "id": "HSiRM1-q6h1V"
      }
    },
    {
      "cell_type": "code",
      "source": [
        "Fuel_Classify = df.groupby(\"Fuel_Type\")[\"Price_USD\"].mean().plot(kind=\"line\")\n",
        "plt.title(\"Average Price per Fuel_Type\")\n",
        "plt.xlabel(\"Fuel Type\")\n",
        "\n",
        "plt.ylabel(\"Average Price\")\n",
        "plt.show()"
      ],
      "metadata": {
        "colab": {
          "base_uri": "https://localhost:8080/",
          "height": 472
        },
        "id": "sRuGhAKdG3VZ",
        "outputId": "91cbfbab-5c4d-423e-d758-e60d09025651"
      },
      "execution_count": null,
      "outputs": [
        {
          "output_type": "display_data",
          "data": {
            "text/plain": [
              "<Figure size 640x480 with 1 Axes>"
            ],
            "image/png": "[encoded data removed]"
          },
          "metadata": {}
        }
      ]
    },
    {
      "cell_type": "markdown",
      "source": [
        "### 🚘🚘♻⚡ Electric vehicles are in trends in recent years"
      ],
      "metadata": {
        "id": "NnhkZ_xDCj_I"
      }
    },
    {
      "cell_type": "markdown",
      "source": [
        "### Number of cars by transmission type:"
      ],
      "metadata": {
        "id": "rzeQiZAHAzan"
      }
    },
    {
      "cell_type": "code",
      "source": [
        " df[\"Transmission\"].value_counts()"
      ],
      "metadata": {
        "colab": {
          "base_uri": "https://localhost:8080/",
          "height": 178
        },
        "id": "2hY3VmBX_y_k",
        "outputId": "b8124f13-c251-4567-b63c-9f3de75fad07"
      },
      "execution_count": null,
      "outputs": [
        {
          "output_type": "execute_result",
          "data": {
            "text/plain": [
              "Transmission\n",
              "Manual       25154\n",
              "Automatic    24846\n",
              "Name: count, dtype: int64"
            ],
            "text/html": [
              "<div>\n",
              "<style scoped>\n",
              "    .dataframe tbody tr th:only-of-type {\n",
              "        vertical-align: middle;\n",
              "    }\n",
              "\n",
              "    .dataframe tbody tr th {\n",
              "        vertical-align: top;\n",
              "    }\n",
              "\n",
              "    .dataframe thead th {\n",
              "        text-align: right;\n",
              "    }\n",
              "</style>\n",
              "<table border=\"1\" class=\"dataframe\">\n",
              "  <thead>\n",
              "    <tr style=\"text-align: right;\">\n",
              "      <th></th>\n",
              "      <th>count</th>\n",
              "    </tr>\n",
              "    <tr>\n",
              "      <th>Transmission</th>\n",
              "      <th></th>\n",
              "    </tr>\n",
              "  </thead>\n",
              "  <tbody>\n",
              "    <tr>\n",
              "      <th>Manual</th>\n",
              "      <td>25154</td>\n",
              "    </tr>\n",
              "    <tr>\n",
              "      <th>Automatic</th>\n",
              "      <td>24846</td>\n",
              "    </tr>\n",
              "  </tbody>\n",
              "</table>\n",
              "</div><br><label><b>dtype:</b> int64</label>"
            ]
          },
          "metadata": {},
          "execution_count": 38
        }
      ]
    },
    {
      "cell_type": "markdown",
      "source": [
        "### 📈 PLOT Transmission types"
      ],
      "metadata": {
        "id": "e_xb7-7gDFxi"
      }
    },
    {
      "cell_type": "code",
      "source": [
        "df[\"Transmission\"].value_counts().plot(kind='line')\n",
        "plt.title(\"Transmission Popularity\")\n",
        "plt.xlabel(\"Transmission\")\n",
        "plt.ylabel(\"number of cars\")\n",
        "plt.show()\n"
      ],
      "metadata": {
        "colab": {
          "base_uri": "https://localhost:8080/",
          "height": 472
        },
        "id": "fydHEwgsDQLa",
        "outputId": "2d2cf639-701b-424e-a0f4-dfad7c696ccb"
      },
      "execution_count": null,
      "outputs": [
        {
          "output_type": "display_data",
          "data": {
            "text/plain": [
              "<Figure size 640x480 with 1 Axes>"
            ],
            "image/png": "[encoded data removed]"
          },
          "metadata": {}
        }
      ]
    },
    {
      "cell_type": "markdown",
      "source": [
        "### Overall Manual transmission types have been mostly sold"
      ],
      "metadata": {
        "id": "P4VyVhKwEcXO"
      }
    },
    {
      "cell_type": "markdown",
      "source": [
        "### 4️⃣ Price Distribution\n",
        "Identify price range using percentiles:"
      ],
      "metadata": {
        "id": "3Ks8nPH3BLyo"
      }
    },
    {
      "cell_type": "code",
      "source": [
        "print(df[\"Price_USD\"].quantile([0.25, 0.50, 0.75]))"
      ],
      "metadata": {
        "colab": {
          "base_uri": "https://localhost:8080/"
        },
        "id": "2btJrmn1AR6a",
        "outputId": "8e05c34f-3793-43be-93e1-648f355cb70b"
      },
      "execution_count": null,
      "outputs": [
        {
          "output_type": "stream",
          "name": "stdout",
          "text": [
            "0.25    52434.75\n",
            "0.50    75011.50\n",
            "0.75    97628.25\n",
            "Name: Price_USD, dtype: float64\n"
          ]
        }
      ]
    },
    {
      "cell_type": "markdown",
      "source": [
        "#📈📉📊 Plots"
      ],
      "metadata": {
        "id": "8pWT7vwlJIOK"
      }
    },
    {
      "cell_type": "code",
      "source": [
        "import matplotlib.pyplot as plt"
      ],
      "metadata": {
        "id": "3riCTl9zJKaG"
      },
      "execution_count": null,
      "outputs": []
    },
    {
      "cell_type": "code",
      "source": [
        "df[\"Year\"].value_counts().sort_index().plot(kind=\"bar\")\n",
        "plt.title(\"Cars Sold per Year [Year vs number of cars]\")\n",
        "plt.xlabel(\"Years\")\n",
        "plt.ylabel(\"Number of Cars\")\n",
        "\n",
        "plt.show()"
      ],
      "metadata": {
        "colab": {
          "base_uri": "https://localhost:8080/",
          "height": 493
        },
        "id": "YnzeVl4zJWcm",
        "outputId": "04ecf962-1b93-4efe-8f68-a3ea9b50c553"
      },
      "execution_count": null,
      "outputs": [
        {
          "output_type": "display_data",
          "data": {
            "text/plain": [
              "<Figure size 640x480 with 1 Axes>"
            ],
            "image/png": "[encoded data removed]"
          },
          "metadata": {}
        }
      ]
    },
    {
      "cell_type": "markdown",
      "source": [
        "### 📊Price distribution (histogram)."
      ],
      "metadata": {
        "id": "gjDJSiOFxEFf"
      }
    },
    {
      "cell_type": "code",
      "source": [
        "import seaborn as sns"
      ],
      "metadata": {
        "id": "IVQBkSvZKmoa"
      },
      "execution_count": null,
      "outputs": []
    },
    {
      "cell_type": "code",
      "source": [
        "sns.histplot(df['Price_USD'], bins=30, kde=True)\n",
        "plt.show()"
      ],
      "metadata": {
        "colab": {
          "base_uri": "https://localhost:8080/",
          "height": 450
        },
        "id": "QfN7ePcmxTBy",
        "outputId": "6d158add-77c4-4e31-e827-f3885c0c95ce"
      },
      "execution_count": null,
      "outputs": [
        {
          "output_type": "display_data",
          "data": {
            "text/plain": [
              "<Figure size 640x480 with 1 Axes>"
            ],
            "image/png": "[encoded data removed]"
          },
          "metadata": {}
        }
      ]
    },
    {
      "cell_type": "markdown",
      "source": [
        "## 🖼✈🌄🌅⛺🌁Area Region wise Anlaysis"
      ],
      "metadata": {
        "id": "2fAUWqsYMWir"
      }
    },
    {
      "cell_type": "code",
      "source": [
        "df.groupby('Region')[\"Sales_Volume\"].sum().sort_values(ascending=False)"
      ],
      "metadata": {
        "colab": {
          "base_uri": "https://localhost:8080/",
          "height": 303
        },
        "id": "ABxUX54aNlJp",
        "outputId": "937a2912-48cf-47a6-d7a9-964f0654c4c1"
      },
      "execution_count": null,
      "outputs": [
        {
          "output_type": "execute_result",
          "data": {
            "text/plain": [
              "Region\n",
              "Asia             42974277\n",
              "Europe           42555138\n",
              "North America    42402629\n",
              "Middle East      42326620\n",
              "Africa           41565252\n",
              "South America    41551818\n",
              "Name: Sales_Volume, dtype: int64"
            ],
            "text/html": [
              "<div>\n",
              "<style scoped>\n",
              "    .dataframe tbody tr th:only-of-type {\n",
              "        vertical-align: middle;\n",
              "    }\n",
              "\n",
              "    .dataframe tbody tr th {\n",
              "        vertical-align: top;\n",
              "    }\n",
              "\n",
              "    .dataframe thead th {\n",
              "        text-align: right;\n",
              "    }\n",
              "</style>\n",
              "<table border=\"1\" class=\"dataframe\">\n",
              "  <thead>\n",
              "    <tr style=\"text-align: right;\">\n",
              "      <th></th>\n",
              "      <th>Sales_Volume</th>\n",
              "    </tr>\n",
              "    <tr>\n",
              "      <th>Region</th>\n",
              "      <th></th>\n",
              "    </tr>\n",
              "  </thead>\n",
              "  <tbody>\n",
              "    <tr>\n",
              "      <th>Asia</th>\n",
              "      <td>42974277</td>\n",
              "    </tr>\n",
              "    <tr>\n",
              "      <th>Europe</th>\n",
              "      <td>42555138</td>\n",
              "    </tr>\n",
              "    <tr>\n",
              "      <th>North America</th>\n",
              "      <td>42402629</td>\n",
              "    </tr>\n",
              "    <tr>\n",
              "      <th>Middle East</th>\n",
              "      <td>42326620</td>\n",
              "    </tr>\n",
              "    <tr>\n",
              "      <th>Africa</th>\n",
              "      <td>41565252</td>\n",
              "    </tr>\n",
              "    <tr>\n",
              "      <th>South America</th>\n",
              "      <td>41551818</td>\n",
              "    </tr>\n",
              "  </tbody>\n",
              "</table>\n",
              "</div><br><label><b>dtype:</b> int64</label>"
            ]
          },
          "metadata": {},
          "execution_count": 19
        }
      ]
    },
    {
      "cell_type": "markdown",
      "source": [
        "Highest sales occur in Asia\n",
        "\n",
        "TOP 3 Regions are\n",
        "\n",
        "ASIA\n",
        "\n",
        "Europe\n",
        "\n",
        "North America"
      ],
      "metadata": {
        "id": "bHKJxWTYHwjn"
      }
    },
    {
      "cell_type": "markdown",
      "source": [
        "Lets see which car model is popular in each Top  region"
      ],
      "metadata": {
        "id": "-t8bRZdQH1aP"
      }
    },
    {
      "cell_type": "code",
      "source": [
        "Top_Region = (df.groupby('Region')['Sales_Volume'].sum().nlargest(3).index)\n",
        "Top_Region_df = df[df[\"Region\"].isin(Top_Region)]\n",
        "\n",
        "Top_model_Region = Top_Region_df.groupby(['Region', 'Model'])['Sales_Volume'].sum().reset_index().sort_values(['Region','Sales_Volume'], ascending=[True, False])\n",
        "\n",
        "\n",
        "Top_Model_Region2 = Top_model_Region.groupby('Region').head(3)\n",
        "print(Top_Model_Region2)"
      ],
      "metadata": {
        "colab": {
          "base_uri": "https://localhost:8080/"
        },
        "id": "6ueQPsA_H0r-",
        "outputId": "4997a6ac-3f55-4767-e863-015bca452386"
      },
      "execution_count": null,
      "outputs": [
        {
          "output_type": "stream",
          "name": "stdout",
          "text": [
            "           Region     Model  Sales_Volume\n",
            "5            Asia        X1       4192289\n",
            "2            Asia  7 Series       4004066\n",
            "10           Asia        i8       3975942\n",
            "21         Europe        i8       4202401\n",
            "15         Europe        M5       4002667\n",
            "11         Europe  3 Series       3959930\n",
            "24  North America  7 Series       4087259\n",
            "28  North America        X3       4056192\n",
            "32  North America        i8       3987274\n"
          ]
        }
      ]
    },
    {
      "cell_type": "markdown",
      "source": [
        "## 📊📉Plots for Top Regions"
      ],
      "metadata": {
        "id": "gPuH_H3NNsu6"
      }
    },
    {
      "cell_type": "code",
      "source": [
        "plt.figure(figsize=(10,6))\n",
        "sns.barplot(data=Top_Model_Region2, x='Region', y='Sales_Volume', hue='Model')\n",
        "plt.title('Top Model type sold in Top Region')\n",
        "plt.show()"
      ],
      "metadata": {
        "colab": {
          "base_uri": "https://localhost:8080/",
          "height": 564
        },
        "id": "IwXTYpLTN6-s",
        "outputId": "b7949992-9470-4466-ee95-841d5964eb53"
      },
      "execution_count": null,
      "outputs": [
        {
          "output_type": "display_data",
          "data": {
            "text/plain": [
              "<Figure size 1000x600 with 1 Axes>"
            ],
            "image/png": "[encoded data removed]"
          },
          "metadata": {}
        }
      ]
    },
    {
      "cell_type": "markdown",
      "source": [
        "IN ASIA:  Xl Model is on top\n",
        "\n",
        "\n",
        "IN Europe: i8 Model is on top\n",
        "\n",
        "IN North Amrica: 7 Series is more Popelar\n",
        "\n",
        "This insight is more valueable because marketing team can focus narketing these top models, further researching why are these models so popular in these region so as to help compare it with law sales and hence improve it."
      ],
      "metadata": {
        "id": "MOtVcKSH7Qrd"
      }
    },
    {
      "cell_type": "markdown",
      "source": [
        "## 🔴🟠🟡🟢⚪⚫ Color influences sales"
      ],
      "metadata": {
        "id": "wZTwSUyg8mJi"
      }
    },
    {
      "cell_type": "code",
      "source": [
        "df[\"Color\"].unique()"
      ],
      "metadata": {
        "colab": {
          "base_uri": "https://localhost:8080/"
        },
        "id": "8qp0p61uO2Ef",
        "outputId": "74fb4655-a66b-49f5-e727-c5c97913ae41"
      },
      "execution_count": null,
      "outputs": [
        {
          "output_type": "execute_result",
          "data": {
            "text/plain": [
              "array(['Red', 'Blue', 'Black', 'Silver', 'White', 'Grey'], dtype=object)"
            ]
          },
          "metadata": {},
          "execution_count": 20
        }
      ]
    },
    {
      "cell_type": "code",
      "source": [
        "df.groupby('Color')[\"Sales_Volume\"].sum().sort_values(ascending=False)"
      ],
      "metadata": {
        "colab": {
          "base_uri": "https://localhost:8080/",
          "height": 303
        },
        "id": "HJRpqcDQPM-3",
        "outputId": "372099d0-e67f-42ff-8a9f-3b147ad01c2d"
      },
      "execution_count": null,
      "outputs": [
        {
          "output_type": "execute_result",
          "data": {
            "text/plain": [
              "Color\n",
              "Red       42750183\n",
              "Silver    42674022\n",
              "White     42272954\n",
              "Grey      41995141\n",
              "Blue      41972741\n",
              "Black     41710693\n",
              "Name: Sales_Volume, dtype: int64"
            ],
            "text/html": [
              "<div>\n",
              "<style scoped>\n",
              "    .dataframe tbody tr th:only-of-type {\n",
              "        vertical-align: middle;\n",
              "    }\n",
              "\n",
              "    .dataframe tbody tr th {\n",
              "        vertical-align: top;\n",
              "    }\n",
              "\n",
              "    .dataframe thead th {\n",
              "        text-align: right;\n",
              "    }\n",
              "</style>\n",
              "<table border=\"1\" class=\"dataframe\">\n",
              "  <thead>\n",
              "    <tr style=\"text-align: right;\">\n",
              "      <th></th>\n",
              "      <th>Sales_Volume</th>\n",
              "    </tr>\n",
              "    <tr>\n",
              "      <th>Color</th>\n",
              "      <th></th>\n",
              "    </tr>\n",
              "  </thead>\n",
              "  <tbody>\n",
              "    <tr>\n",
              "      <th>Red</th>\n",
              "      <td>42750183</td>\n",
              "    </tr>\n",
              "    <tr>\n",
              "      <th>Silver</th>\n",
              "      <td>42674022</td>\n",
              "    </tr>\n",
              "    <tr>\n",
              "      <th>White</th>\n",
              "      <td>42272954</td>\n",
              "    </tr>\n",
              "    <tr>\n",
              "      <th>Grey</th>\n",
              "      <td>41995141</td>\n",
              "    </tr>\n",
              "    <tr>\n",
              "      <th>Blue</th>\n",
              "      <td>41972741</td>\n",
              "    </tr>\n",
              "    <tr>\n",
              "      <th>Black</th>\n",
              "      <td>41710693</td>\n",
              "    </tr>\n",
              "  </tbody>\n",
              "</table>\n",
              "</div><br><label><b>dtype:</b> int64</label>"
            ]
          },
          "metadata": {},
          "execution_count": 21
        }
      ]
    },
    {
      "cell_type": "markdown",
      "source": [
        "### So Overall Red colour cars are more popular now lets check is the same trend going on in recent top years or changed"
      ],
      "metadata": {
        "id": "qcc2oNSracCm"
      }
    },
    {
      "cell_type": "code",
      "source": [
        "Top_Years = df.groupby(\"Year\")[\"Sales_Volume\"].sum().sort_values(ascending=False).head(3).index\n",
        "\n",
        "Top_Years_data = df[df['Year'].isin(Top_Years)]\n",
        "print(Top_Years_data)"
      ],
      "metadata": {
        "colab": {
          "base_uri": "https://localhost:8080/"
        },
        "id": "vK1NySbePdcw",
        "outputId": "70ddba9b-e4d2-4a98-af6c-9aac1e2d75c2"
      },
      "execution_count": null,
      "outputs": [
        {
          "output_type": "stream",
          "name": "stdout",
          "text": [
            "          Model  Year         Region   Color Fuel_Type Transmission  \\\n",
            "2      5 Series  2022  North America    Blue    Petrol    Automatic   \n",
            "3            X3  2024    Middle East    Blue    Petrol    Automatic   \n",
            "6            i8  2022         Europe   White    Diesel       Manual   \n",
            "9            i8  2019         Europe   White  Electric       Manual   \n",
            "32           M5  2019           Asia     Red    Diesel       Manual   \n",
            "...         ...   ...            ...     ...       ...          ...   \n",
            "49980        i3  2022           Asia   White    Hybrid    Automatic   \n",
            "49982        M3  2024           Asia  Silver    Hybrid    Automatic   \n",
            "49983  3 Series  2019  South America  Silver    Hybrid    Automatic   \n",
            "49984  5 Series  2019  North America   White    Diesel       Manual   \n",
            "49991        X5  2019           Asia   White    Diesel    Automatic   \n",
            "\n",
            "       Engine_Size_L  Mileage_KM  Price_USD  Sales_Volume Sales_Classification  \n",
            "2                4.5       10991     113265          6994                  Low  \n",
            "3                1.7       27255      60971          4047                  Low  \n",
            "6                1.8      196741      55064          7949                 High  \n",
            "9                3.0       35700      96257          4411                  Low  \n",
            "32               2.1       97294      53277          4091                  Low  \n",
            "...              ...         ...        ...           ...                  ...  \n",
            "49980            5.0       38575     112981          6123                  Low  \n",
            "49982            1.7      198846      85034          7888                 High  \n",
            "49983            1.8      123127      63197          3146                  Low  \n",
            "49984            4.5       48562      31520          7108                 High  \n",
            "49991            3.3      162639      33217          1904                  Low  \n",
            "\n",
            "[10297 rows x 11 columns]\n"
          ]
        }
      ]
    },
    {
      "cell_type": "code",
      "source": [
        "Top_color_each_year = Top_Years_data.groupby([\"Year\",\"Color\"])[\"Sales_Volume\"].sum().reset_index().sort_values([\"Year\",\"Sales_Volume\"],ascending=[True, False])\n",
        "\n",
        "print(Top_color_each_year)"
      ],
      "metadata": {
        "colab": {
          "base_uri": "https://localhost:8080/"
        },
        "id": "7i7vWca7Pmq3",
        "outputId": "ff685332-1516-44cc-be5b-1461d647d419"
      },
      "execution_count": null,
      "outputs": [
        {
          "output_type": "stream",
          "name": "stdout",
          "text": [
            "    Year   Color  Sales_Volume\n",
            "5   2019   White       2934017\n",
            "3   2019     Red       2922186\n",
            "4   2019  Silver       2920241\n",
            "0   2019   Black       2900447\n",
            "1   2019    Blue       2877348\n",
            "2   2019    Grey       2637717\n",
            "8   2022    Grey       3070587\n",
            "9   2022     Red       3039601\n",
            "11  2022   White       3009960\n",
            "7   2022    Blue       2962268\n",
            "10  2022  Silver       2926976\n",
            "6   2022   Black       2911554\n",
            "13  2024    Blue       3048927\n",
            "16  2024  Silver       3009765\n",
            "12  2024   Black       2979077\n",
            "15  2024     Red       2861725\n",
            "14  2024    Grey       2824876\n",
            "17  2024   White       2803484\n"
          ]
        }
      ]
    },
    {
      "cell_type": "markdown",
      "source": [
        "### 📊📉📈 PLOTS"
      ],
      "metadata": {
        "id": "OyoK4I8e1-Ju"
      }
    },
    {
      "cell_type": "code",
      "source": [
        "import matplotlib.pyplot as plt\n",
        "import seaborn as sns\n",
        "\n",
        "plt.figure(figsize=(9, 5))\n",
        "sns.lineplot(data=Top_color_each_year, x='Year',y='Sales_Volume', hue='Color')\n",
        "plt.title(\"Colors in Every Years trends\")\n",
        "plt.xticks(rotation=45)\n",
        "plt.tight_layout()\n",
        "plt.show()"
      ],
      "metadata": {
        "id": "79gJc6RK2Gye",
        "colab": {
          "base_uri": "https://localhost:8080/",
          "height": 507
        },
        "outputId": "68c9bbc2-93c0-45fa-8cbf-d02e543c9014"
      },
      "execution_count": null,
      "outputs": [
        {
          "output_type": "display_data",
          "data": {
            "text/plain": [
              "<Figure size 900x500 with 1 Axes>"
            ],
            "image/png": "[encoded data removed]"
          },
          "metadata": {}
        }
      ]
    },
    {
      "cell_type": "markdown",
      "source": [
        "### In recent years blue, black and silver colour gained popularity where as red colour showed dip in sales volume, so marketting team can focus on these colors for high selling"
      ],
      "metadata": {
        "id": "9EiReVF8GlZ7"
      }
    },
    {
      "cell_type": "markdown",
      "source": [],
      "metadata": {
        "id": "ankPlAZP89UT"
      }
    },
    {
      "cell_type": "code",
      "source": [],
      "metadata": {
        "id": "imDAxrrSFN0h"
      },
      "execution_count": null,
      "outputs": []
    }
  ]
}